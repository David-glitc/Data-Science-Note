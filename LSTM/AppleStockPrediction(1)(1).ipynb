{
 "cells": [
  {
   "cell_type": "code",
   "execution_count": null,
   "metadata": {
    "executionInfo": {
     "elapsed": 20,
     "status": "ok",
     "timestamp": 1677406675183,
     "user": {
      "displayName": "David Opuene",
      "userId": "16782265720673323411"
     },
     "user_tz": -60
    },
    "id": "2eArJnF8f0cF",
    "tags": []
   },
   "outputs": [],
   "source": [
    "import matplotlib.pyplot as plt\n",
    "import numpy as np\n",
    "import pandas as pd\n",
    "from keras.layers import LSTM, Dense\n",
    "from keras.models import Sequential\n",
    "from sklearn.preprocessing import MinMaxScaler\n",
    "\n",
    "import keras\n",
    "\n",
    "plt.style.use('fivethirtyeight')"
   ]
  },
  {
   "cell_type": "code",
   "execution_count": null,
   "metadata": {
    "tags": []
   },
   "outputs": [],
   "source": [
    "df=pd.read_csv('./Data/all_stocks_5yr.csv')\n",
    "df"
   ]
  },
  {
   "cell_type": "code",
   "execution_count": null,
   "metadata": {
    "colab": {
     "base_uri": "https://localhost:8080/",
     "height": 206
    },
    "executionInfo": {
     "elapsed": 36,
     "status": "ok",
     "timestamp": 1677350884307,
     "user": {
      "displayName": "David Opuene",
      "userId": "16782265720673323411"
     },
     "user_tz": -60
    },
    "id": "rFBxglFohQ7U",
    "outputId": "cd4a46eb-3999-49eb-f13a-7d594cd6861f",
    "tags": []
   },
   "outputs": [],
   "source": [
    "df.head()"
   ]
  },
  {
   "cell_type": "code",
   "execution_count": null,
   "metadata": {
    "tags": []
   },
   "outputs": [],
   "source": [
    "df.tail()"
   ]
  },
  {
   "cell_type": "code",
   "execution_count": null,
   "metadata": {},
   "outputs": [],
   "source": [
    "df.info()"
   ]
  },
  {
   "cell_type": "code",
   "execution_count": null,
   "metadata": {},
   "outputs": [],
   "source": [
    "df.shape"
   ]
  },
  {
   "cell_type": "code",
   "execution_count": null,
   "metadata": {},
   "outputs": [],
   "source": [
    "# Convert the date column to datetime format\n",
    "df['date'] = pd.to_datetime(df['date'])\n",
    "\n",
    "df = df.set_index('date')  # set the date column as the index\n",
    "\n",
    "df = df.sort_index()\n"
   ]
  },
  {
   "cell_type": "code",
   "execution_count": null,
   "metadata": {},
   "outputs": [],
   "source": [
    "df = df.drop(\"Name\", axis=1)\n",
    "df"
   ]
  },
  {
   "cell_type": "code",
   "execution_count": null,
   "metadata": {
    "tags": []
   },
   "outputs": [],
   "source": [
    "#Visualize the closind price history\n",
    "plt.Figure(figsize=(15,20))\n",
    "plt.title('close Price History')\n",
    "plt.plot(df['close'])\n",
    "plt.xlabel('Date', fontsize=18)\n",
    "plt.ylabel('Close Price USD$', fontsize=18)\n",
    "plt.show()"
   ]
  },
  {
   "cell_type": "code",
   "execution_count": null,
   "metadata": {},
   "outputs": [],
   "source": [
    "df.shape"
   ]
  },
  {
   "cell_type": "code",
   "execution_count": null,
   "metadata": {
    "colab": {
     "base_uri": "https://localhost:8080/"
    },
    "executionInfo": {
     "elapsed": 16,
     "status": "ok",
     "timestamp": 1677350912865,
     "user": {
      "displayName": "David Opuene",
      "userId": "16782265720673323411"
     },
     "user_tz": -60
    },
    "id": "JAhm5wrVhaSK",
    "outputId": "2d3f95a1-69b8-468d-81b3-8c3f7203877b",
    "tags": []
   },
   "outputs": [],
   "source": [
    "import math\n",
    "\n",
    "# print(df['close'])\n",
    "data = df.filter(['close'])\n",
    "dataset = data.values\n",
    "\n",
    "training_data_len = math.ceil(len(dataset)*.8)\n",
    "\n",
    "print(training_data_len)\n",
    "print(dataset)"
   ]
  },
  {
   "cell_type": "code",
   "execution_count": null,
   "metadata": {
    "colab": {
     "base_uri": "https://localhost:8080/"
    },
    "executionInfo": {
     "elapsed": 14,
     "status": "ok",
     "timestamp": 1677350920243,
     "user": {
      "displayName": "David Opuene",
      "userId": "16782265720673323411"
     },
     "user_tz": -60
    },
    "id": "a8n-9RgXhjiL",
    "outputId": "5999855e-4341-468d-fe9f-2e21d189637d",
    "tags": []
   },
   "outputs": [],
   "source": [
    "scaler = MinMaxScaler(feature_range=(0, 1))\n",
    "scaled_data = scaler.fit_transform(dataset)\n",
    "scaled_data"
   ]
  },
  {
   "cell_type": "code",
   "execution_count": null,
   "metadata": {
    "colab": {
     "base_uri": "https://localhost:8080/"
    },
    "executionInfo": {
     "elapsed": 954,
     "status": "ok",
     "timestamp": 1677350928392,
     "user": {
      "displayName": "David Opuene",
      "userId": "16782265720673323411"
     },
     "user_tz": -60
    },
    "id": "WQpTFzcSh393",
    "outputId": "24af7cb1-9eb7-4072-b1d9-603764219a6c",
    "tags": []
   },
   "outputs": [],
   "source": [
    "train_data = scaled_data[0:training_data_len,:]\n",
    "print(training_data_len)\n",
    "X_train = []\n",
    "y_train = []\n",
    "\n",
    "for i in range(60, len(train_data)):\n",
    "    X_train.append(train_data[i-60:i,0])\n",
    "    y_train.append(train_data[i,0])\n",
    "\n",
    "    if i<= 60:\n",
    "        print(X_train)\n",
    "        print(y_train)"
   ]
  },
  {
   "cell_type": "code",
   "execution_count": null,
   "metadata": {
    "tags": []
   },
   "outputs": [],
   "source": [
    "X_train, y_train = np.array(X_train), np.array(y_train)"
   ]
  },
  {
   "cell_type": "code",
   "execution_count": null,
   "metadata": {
    "tags": []
   },
   "outputs": [],
   "source": [
    "X_train.shape"
   ]
  },
  {
   "cell_type": "code",
   "execution_count": null,
   "metadata": {
    "tags": []
   },
   "outputs": [],
   "source": [
    "X_train = np.reshape(X_train, (495172, 60, 1))\n",
    "X_train.shape"
   ]
  },
  {
   "cell_type": "code",
   "execution_count": null,
   "metadata": {},
   "outputs": [],
   "source": [
    "model = Sequential()\n",
    "model.add(LSTM(units=50, return_sequences=True,input_shape=(X_train.shape[1],1),))\n",
    "model.add(LSTM(units=50, return_sequences=False))\n",
    "model.add(Dense(100, activation='relu'))\n",
    "model.add(Dense(1))"
   ]
  },
  {
   "cell_type": "code",
   "execution_count": null,
   "metadata": {
    "id": "C3AxwUnRi1KY",
    "tags": []
   },
   "outputs": [],
   "source": [
    "model.compile(loss='mean_squared_error', optimizer='adam',metrics=['MSE','MAE','accuracy'])"
   ]
  },
  {
   "cell_type": "code",
   "execution_count": null,
   "metadata": {},
   "outputs": [],
   "source": [
    "history = model.fit(X_train, y_train, epochs=2, batch_size=100)\n",
    "history"
   ]
  },
  {
   "cell_type": "code",
   "execution_count": null,
   "metadata": {
    "tags": []
   },
   "outputs": [],
   "source": [
    "test_data = scaled_data[training_data_len-60:,:]\n",
    "# print(scaled_data)\n",
    "X_test=[]\n",
    "y_test=dataset[training_data_len:,:]\n",
    "for i  in  range(60,len(test_data)):\n",
    "    X_test.append(test_data[i-60:i,0])\n",
    "X_test"
   ]
  },
  {
   "cell_type": "code",
   "execution_count": null,
   "metadata": {
    "tags": []
   },
   "outputs": [],
   "source": [
    "X_test=np.array(X_test)"
   ]
  },
  {
   "cell_type": "code",
   "execution_count": null,
   "metadata": {
    "tags": []
   },
   "outputs": [],
   "source": [
    "X_test"
   ]
  },
  {
   "cell_type": "code",
   "execution_count": null,
   "metadata": {
    "tags": []
   },
   "outputs": [],
   "source": [
    "X_test=np.reshape(X_test,(X_test.shape[0],X_test.shape[1],1))"
   ]
  },
  {
   "cell_type": "code",
   "execution_count": null,
   "metadata": {
    "tags": []
   },
   "outputs": [],
   "source": [
    "predictions=model.predict(X_test)\n",
    "predictions=scaler.inverse_transform(predictions)\n",
    "predictions"
   ]
  },
  {
   "cell_type": "code",
   "execution_count": null,
   "metadata": {},
   "outputs": [],
   "source": []
  },
  {
   "cell_type": "code",
   "execution_count": null,
   "metadata": {
    "tags": []
   },
   "outputs": [],
   "source": [
    "rmse=np.sqrt(np.mean(predictions-y_test)**\n",
    "2)\n",
    "rmse"
   ]
  },
  {
   "cell_type": "code",
   "execution_count": null,
   "metadata": {
    "tags": []
   },
   "outputs": [],
   "source": [
    "train=data[:training_data_len]\n",
    "valid=data[training_data_len:]\n",
    "valid['predictions'] = predictions\n",
    "\n",
    "\n",
    "plt.Figure(figsize=(20,18))\n",
    "plt.title('Model')\n",
    "plt.xlabel('Date')\n",
    "plt.plot(train['Close'])\n",
    "plt.plot(valid[['Close','predictions']])\n",
    "plt.legend(['train','val','predictions'],loc='upper right')\n",
    "plt.show()"
   ]
  },
  {
   "cell_type": "code",
   "execution_count": null,
   "metadata": {},
   "outputs": [],
   "source": []
  },
  {
   "cell_type": "code",
   "execution_count": null,
   "metadata": {},
   "outputs": [],
   "source": []
  },
  {
   "cell_type": "code",
   "execution_count": null,
   "metadata": {
    "colab": {
     "base_uri": "https://localhost:8080/"
    },
    "executionInfo": {
     "elapsed": 5796,
     "status": "ok",
     "timestamp": 1677351582750,
     "user": {
      "displayName": "David Opuene",
      "userId": "16782265720673323411"
     },
     "user_tz": -60
    },
    "id": "StkUo7hQkOdG",
    "outputId": "e0f0cff6-a1f0-43b9-db05-12b789847378",
    "tags": []
   },
   "outputs": [],
   "source": [
    "loss = model.evaluate(X_test, y_test)"
   ]
  },
  {
   "cell_type": "code",
   "execution_count": null,
   "metadata": {
    "colab": {
     "base_uri": "https://localhost:8080/"
    },
    "executionInfo": {
     "elapsed": 5533,
     "status": "ok",
     "timestamp": 1677351605017,
     "user": {
      "displayName": "David Opuene",
      "userId": "16782265720673323411"
     },
     "user_tz": -60
    },
    "id": "nKd82HHH8Tto",
    "outputId": "c1db441c-295f-408d-975f-f04316e5882c",
    "tags": []
   },
   "outputs": [],
   "source": [
    "predictions = model.predict(X_test)\n",
    "predictions = scaler.inverse_transform(predictions)\n",
    "predictions"
   ]
  },
  {
   "cell_type": "code",
   "execution_count": null,
   "metadata": {
    "id": "BlBlJHHG8eXk",
    "tags": []
   },
   "outputs": [],
   "source": [
    "actual_prices = scaler.inverse_transform(np.array(y_test).reshape(-1, 1))\n",
    "predicted_prices = scaler.inverse_transform(predictions)"
   ]
  },
  {
   "cell_type": "code",
   "execution_count": null,
   "metadata": {
    "id": "CCNV9ud28oem",
    "tags": []
   },
   "outputs": [],
   "source": [
    "import plotly.graph_objs as go"
   ]
  },
  {
   "cell_type": "code",
   "execution_count": null,
   "metadata": {
    "tags": []
   },
   "outputs": [],
   "source": [
    "df.index"
   ]
  },
  {
   "cell_type": "code",
   "execution_count": null,
   "metadata": {},
   "outputs": [],
   "source": [
    "time_steps=20"
   ]
  },
  {
   "cell_type": "code",
   "execution_count": null,
   "metadata": {
    "colab": {
     "base_uri": "https://localhost:8080/",
     "height": 542
    },
    "executionInfo": {
     "elapsed": 1991,
     "status": "ok",
     "timestamp": 1677351752485,
     "user": {
      "displayName": "David Opuene",
      "userId": "16782265720673323411"
     },
     "user_tz": -60
    },
    "id": "tqJfOV0R8v6J",
    "outputId": "337c8020-0d0e-4e3d-d7b4-3edc49c45959",
    "tags": []
   },
   "outputs": [],
   "source": [
    "actual_trace = go.Scatter(\n",
    "    x = df.index[training_data_len+time_steps+1:],\n",
    "    y = actual_prices.flatten(),\n",
    "    mode = 'lines',\n",
    "    name = 'Actual'\n",
    ")\n",
    "\n",
    "predicted_trace = go.Scatter(\n",
    "    x=df.index[training_data_len+time_steps+1:],\n",
    "    y = predicted_prices.flatten(),\n",
    "    mode = 'lines',\n",
    "    name = 'Predicted'\n",
    ")\n",
    "\n",
    "# Create layout for the plot\n",
    "layout = go.Layout(\n",
    "    title = 'Actual vs. Predicted Apple Stock Prices (LSTM)',\n",
    "    xaxis = dict(title = 'Date'),\n",
    "    yaxis = dict(title = 'Price')\n",
    ")\n",
    "\n",
    "# Create figure and add traces\n",
    "fig = go.Figure(data=[actual_trace, predicted_trace], layout=layout)\n",
    "\n",
    "# Show the plot\n",
    "fig.show()"
   ]
  },
  {
   "cell_type": "code",
   "execution_count": null,
   "metadata": {},
   "outputs": [],
   "source": []
  }
 ],
 "metadata": {
  "colab": {
   "authorship_tag": "ABX9TyPZQUQsVM8Ou8Y3+/4Zn01b",
   "provenance": []
  },
  "kernelspec": {
   "display_name": "Python 3",
   "language": "python",
   "name": "python3"
  },
  "language_info": {
   "codemirror_mode": {
    "name": "ipython",
    "version": 3
   },
   "file_extension": ".py",
   "mimetype": "text/x-python",
   "name": "python",
   "nbconvert_exporter": "python",
   "pygments_lexer": "ipython3",
   "version": "3.11.1 (tags/v3.11.1:a7a450f, Dec  6 2022, 19:58:39) [MSC v.1934 64 bit (AMD64)]"
  },
  "vscode": {
   "interpreter": {
    "hash": "ff4b1fca65a764b45acb559e482afe389d289dd599b9f8c5fd12ff5c2ea46a65"
   }
  }
 },
 "nbformat": 4,
 "nbformat_minor": 4
}
