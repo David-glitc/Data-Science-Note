{
 "cells": [
  {
   "cell_type": "markdown",
   "id": "fc7b9451",
   "metadata": {
    "papermill": {
     "duration": 0.008751,
     "end_time": "2023-02-15T05:30:24.618688",
     "exception": false,
     "start_time": "2023-02-15T05:30:24.609937",
     "status": "completed"
    },
    "tags": []
   },
   "source": [
    "# Importing the Dependencies"
   ]
  },
  {
   "cell_type": "code",
   "execution_count": 2,
   "id": "da8e9f81",
   "metadata": {
    "papermill": {
     "duration": 1.291575,
     "end_time": "2023-02-15T05:30:25.918299",
     "exception": false,
     "start_time": "2023-02-15T05:30:24.626724",
     "status": "completed"
    },
    "scrolled": true,
    "tags": []
   },
   "outputs": [],
   "source": [
    "import matplotlib.pyplot as plt\n",
    "import pandas as pd\n",
    "import seaborn as sns\n",
    "from sklearn import metrics\n",
    "from sklearn.linear_model import Lasso, LinearRegression\n",
    "from sklearn.model_selection import train_test_split"
   ]
  },
  {
   "cell_type": "markdown",
   "id": "faae7112",
   "metadata": {
    "papermill": {
     "duration": 0.007935,
     "end_time": "2023-02-15T05:30:25.934524",
     "exception": false,
     "start_time": "2023-02-15T05:30:25.926589",
     "status": "completed"
    },
    "tags": []
   },
   "source": [
    "# Data Collection and Processing"
   ]
  },
  {
   "cell_type": "code",
   "execution_count": 7,
   "id": "f34371df",
   "metadata": {
    "papermill": {
     "duration": 0.034011,
     "end_time": "2023-02-15T05:30:25.976514",
     "exception": false,
     "start_time": "2023-02-15T05:30:25.942503",
     "status": "completed"
    },
    "tags": []
   },
   "outputs": [],
   "source": [
    "#load dataset\n",
    "df_main = pd.read_csv('./Data/CAR DETAILS FROM CAR DEKHO.xls')"
   ]
  },
  {
   "cell_type": "code",
   "execution_count": 8,
   "id": "71e07b35",
   "metadata": {
    "papermill": {
     "duration": 0.035871,
     "end_time": "2023-02-15T05:30:26.020615",
     "exception": false,
     "start_time": "2023-02-15T05:30:25.984744",
     "status": "completed"
    },
    "tags": []
   },
   "outputs": [
    {
     "data": {
      "text/html": [
       "<div>\n",
       "<style scoped>\n",
       "    .dataframe tbody tr th:only-of-type {\n",
       "        vertical-align: middle;\n",
       "    }\n",
       "\n",
       "    .dataframe tbody tr th {\n",
       "        vertical-align: top;\n",
       "    }\n",
       "\n",
       "    .dataframe thead th {\n",
       "        text-align: right;\n",
       "    }\n",
       "</style>\n",
       "<table border=\"1\" class=\"dataframe\">\n",
       "  <thead>\n",
       "    <tr style=\"text-align: right;\">\n",
       "      <th></th>\n",
       "      <th>name</th>\n",
       "      <th>year</th>\n",
       "      <th>selling_price</th>\n",
       "      <th>km_driven</th>\n",
       "      <th>fuel</th>\n",
       "      <th>seller_type</th>\n",
       "      <th>transmission</th>\n",
       "      <th>owner</th>\n",
       "    </tr>\n",
       "  </thead>\n",
       "  <tbody>\n",
       "    <tr>\n",
       "      <th>0</th>\n",
       "      <td>Maruti 800 AC</td>\n",
       "      <td>2007</td>\n",
       "      <td>60000</td>\n",
       "      <td>70000</td>\n",
       "      <td>Petrol</td>\n",
       "      <td>Individual</td>\n",
       "      <td>Manual</td>\n",
       "      <td>First Owner</td>\n",
       "    </tr>\n",
       "    <tr>\n",
       "      <th>1</th>\n",
       "      <td>Maruti Wagon R LXI Minor</td>\n",
       "      <td>2007</td>\n",
       "      <td>135000</td>\n",
       "      <td>50000</td>\n",
       "      <td>Petrol</td>\n",
       "      <td>Individual</td>\n",
       "      <td>Manual</td>\n",
       "      <td>First Owner</td>\n",
       "    </tr>\n",
       "    <tr>\n",
       "      <th>2</th>\n",
       "      <td>Hyundai Verna 1.6 SX</td>\n",
       "      <td>2012</td>\n",
       "      <td>600000</td>\n",
       "      <td>100000</td>\n",
       "      <td>Diesel</td>\n",
       "      <td>Individual</td>\n",
       "      <td>Manual</td>\n",
       "      <td>First Owner</td>\n",
       "    </tr>\n",
       "    <tr>\n",
       "      <th>3</th>\n",
       "      <td>Datsun RediGO T Option</td>\n",
       "      <td>2017</td>\n",
       "      <td>250000</td>\n",
       "      <td>46000</td>\n",
       "      <td>Petrol</td>\n",
       "      <td>Individual</td>\n",
       "      <td>Manual</td>\n",
       "      <td>First Owner</td>\n",
       "    </tr>\n",
       "    <tr>\n",
       "      <th>4</th>\n",
       "      <td>Honda Amaze VX i-DTEC</td>\n",
       "      <td>2014</td>\n",
       "      <td>450000</td>\n",
       "      <td>141000</td>\n",
       "      <td>Diesel</td>\n",
       "      <td>Individual</td>\n",
       "      <td>Manual</td>\n",
       "      <td>Second Owner</td>\n",
       "    </tr>\n",
       "  </tbody>\n",
       "</table>\n",
       "</div>"
      ],
      "text/plain": [
       "                       name  year  selling_price  km_driven    fuel  \\\n",
       "0             Maruti 800 AC  2007          60000      70000  Petrol   \n",
       "1  Maruti Wagon R LXI Minor  2007         135000      50000  Petrol   \n",
       "2      Hyundai Verna 1.6 SX  2012         600000     100000  Diesel   \n",
       "3    Datsun RediGO T Option  2017         250000      46000  Petrol   \n",
       "4     Honda Amaze VX i-DTEC  2014         450000     141000  Diesel   \n",
       "\n",
       "  seller_type transmission         owner  \n",
       "0  Individual       Manual   First Owner  \n",
       "1  Individual       Manual   First Owner  \n",
       "2  Individual       Manual   First Owner  \n",
       "3  Individual       Manual   First Owner  \n",
       "4  Individual       Manual  Second Owner  "
      ]
     },
     "execution_count": 8,
     "metadata": {},
     "output_type": "execute_result"
    }
   ],
   "source": [
    "df_main.head()"
   ]
  },
  {
   "cell_type": "code",
   "execution_count": 9,
   "id": "4b1d99a8",
   "metadata": {
    "papermill": {
     "duration": 0.018126,
     "end_time": "2023-02-15T05:30:26.047071",
     "exception": false,
     "start_time": "2023-02-15T05:30:26.028945",
     "status": "completed"
    },
    "tags": []
   },
   "outputs": [
    {
     "data": {
      "text/plain": [
       "(4340, 8)"
      ]
     },
     "execution_count": 9,
     "metadata": {},
     "output_type": "execute_result"
    }
   ],
   "source": [
    "# checking the number of rows and columns\n",
    "df_main.shape"
   ]
  },
  {
   "cell_type": "code",
   "execution_count": 10,
   "id": "7be10e49",
   "metadata": {
    "papermill": {
     "duration": 0.038691,
     "end_time": "2023-02-15T05:30:26.093996",
     "exception": false,
     "start_time": "2023-02-15T05:30:26.055305",
     "status": "completed"
    },
    "tags": []
   },
   "outputs": [
    {
     "name": "stdout",
     "output_type": "stream",
     "text": [
      "<class 'pandas.core.frame.DataFrame'>\n",
      "RangeIndex: 4340 entries, 0 to 4339\n",
      "Data columns (total 8 columns):\n",
      " #   Column         Non-Null Count  Dtype \n",
      "---  ------         --------------  ----- \n",
      " 0   name           4340 non-null   object\n",
      " 1   year           4340 non-null   int64 \n",
      " 2   selling_price  4340 non-null   int64 \n",
      " 3   km_driven      4340 non-null   int64 \n",
      " 4   fuel           4340 non-null   object\n",
      " 5   seller_type    4340 non-null   object\n",
      " 6   transmission   4340 non-null   object\n",
      " 7   owner          4340 non-null   object\n",
      "dtypes: int64(3), object(5)\n",
      "memory usage: 271.4+ KB\n"
     ]
    }
   ],
   "source": [
    "# getting some information about the dataset\n",
    "df_main.info()"
   ]
  },
  {
   "cell_type": "code",
   "execution_count": 11,
   "id": "e8fe4317",
   "metadata": {
    "papermill": {
     "duration": 0.023124,
     "end_time": "2023-02-15T05:30:26.160367",
     "exception": false,
     "start_time": "2023-02-15T05:30:26.137243",
     "status": "completed"
    },
    "tags": []
   },
   "outputs": [
    {
     "name": "stdout",
     "output_type": "stream",
     "text": [
      "Diesel      2153\n",
      "Petrol      2123\n",
      "CNG           40\n",
      "LPG           23\n",
      "Electric       1\n",
      "Name: fuel, dtype: int64\n",
      "Individual          3244\n",
      "Dealer               994\n",
      "Trustmark Dealer     102\n",
      "Name: seller_type, dtype: int64\n",
      "Manual       3892\n",
      "Automatic     448\n",
      "Name: transmission, dtype: int64\n",
      "First Owner             2832\n",
      "Second Owner            1106\n",
      "Third Owner              304\n",
      "Fourth & Above Owner      81\n",
      "Test Drive Car            17\n",
      "Name: owner, dtype: int64\n"
     ]
    }
   ],
   "source": [
    "# checking the distribution of categorical data\n",
    "print(df_main.fuel.value_counts()) \n",
    "print(df_main.seller_type.value_counts())\n",
    "print(df_main.transmission.value_counts())\n",
    "print(df_main.owner.value_counts())"
   ]
  },
  {
   "cell_type": "markdown",
   "id": "1ba03452",
   "metadata": {
    "papermill": {
     "duration": 0.008894,
     "end_time": "2023-02-15T05:30:26.179194",
     "exception": false,
     "start_time": "2023-02-15T05:30:26.170300",
     "status": "completed"
    },
    "tags": []
   },
   "source": [
    "# Encoding the Categorical Data"
   ]
  },
  {
   "cell_type": "code",
   "execution_count": 12,
   "id": "fc8dcc1d",
   "metadata": {
    "papermill": {
     "duration": 0.031619,
     "end_time": "2023-02-15T05:30:26.222116",
     "exception": false,
     "start_time": "2023-02-15T05:30:26.190497",
     "status": "completed"
    },
    "tags": []
   },
   "outputs": [],
   "source": [
    "# encoding \"Fuel_Type\" Column\n",
    "df_main.replace({'fuel':{'Petrol':0,'Diesel':1,'CNG':2,'LPG':3,'Electric':4}},inplace=True)\n",
    "\n",
    "#encoding \"owner\" column\n",
    "df_main.replace(\n",
    "    {'owner': {'First Owner': 0, 'Second Owner': 1, 'Third Owner': 2, 'Fourth & Above Owner': 3, 'Test Drive Car':4}}, inplace=True)\n",
    "\n",
    "# encoding \"Seller_Type\" Column\n",
    "df_main.replace({'seller_type':{'Dealer':0,'Individual':1, 'Trustmark Dealer': 2}},inplace=True)\n",
    "\n",
    "# encoding \"Transmission\" Column\n",
    "df_main.replace({'transmission':{'Manual':0,'Automatic':1}},inplace=True)"
   ]
  },
  {
   "cell_type": "code",
   "execution_count": 13,
   "id": "bb902d11",
   "metadata": {
    "papermill": {
     "duration": 0.032479,
     "end_time": "2023-02-15T05:30:26.265197",
     "exception": false,
     "start_time": "2023-02-15T05:30:26.232718",
     "status": "completed"
    },
    "tags": []
   },
   "outputs": [
    {
     "data": {
      "text/html": [
       "<div>\n",
       "<style scoped>\n",
       "    .dataframe tbody tr th:only-of-type {\n",
       "        vertical-align: middle;\n",
       "    }\n",
       "\n",
       "    .dataframe tbody tr th {\n",
       "        vertical-align: top;\n",
       "    }\n",
       "\n",
       "    .dataframe thead th {\n",
       "        text-align: right;\n",
       "    }\n",
       "</style>\n",
       "<table border=\"1\" class=\"dataframe\">\n",
       "  <thead>\n",
       "    <tr style=\"text-align: right;\">\n",
       "      <th></th>\n",
       "      <th>name</th>\n",
       "      <th>year</th>\n",
       "      <th>selling_price</th>\n",
       "      <th>km_driven</th>\n",
       "      <th>fuel</th>\n",
       "      <th>seller_type</th>\n",
       "      <th>transmission</th>\n",
       "      <th>owner</th>\n",
       "    </tr>\n",
       "  </thead>\n",
       "  <tbody>\n",
       "    <tr>\n",
       "      <th>0</th>\n",
       "      <td>Maruti 800 AC</td>\n",
       "      <td>2007</td>\n",
       "      <td>60000</td>\n",
       "      <td>70000</td>\n",
       "      <td>0</td>\n",
       "      <td>1</td>\n",
       "      <td>0</td>\n",
       "      <td>0</td>\n",
       "    </tr>\n",
       "    <tr>\n",
       "      <th>1</th>\n",
       "      <td>Maruti Wagon R LXI Minor</td>\n",
       "      <td>2007</td>\n",
       "      <td>135000</td>\n",
       "      <td>50000</td>\n",
       "      <td>0</td>\n",
       "      <td>1</td>\n",
       "      <td>0</td>\n",
       "      <td>0</td>\n",
       "    </tr>\n",
       "    <tr>\n",
       "      <th>2</th>\n",
       "      <td>Hyundai Verna 1.6 SX</td>\n",
       "      <td>2012</td>\n",
       "      <td>600000</td>\n",
       "      <td>100000</td>\n",
       "      <td>1</td>\n",
       "      <td>1</td>\n",
       "      <td>0</td>\n",
       "      <td>0</td>\n",
       "    </tr>\n",
       "    <tr>\n",
       "      <th>3</th>\n",
       "      <td>Datsun RediGO T Option</td>\n",
       "      <td>2017</td>\n",
       "      <td>250000</td>\n",
       "      <td>46000</td>\n",
       "      <td>0</td>\n",
       "      <td>1</td>\n",
       "      <td>0</td>\n",
       "      <td>0</td>\n",
       "    </tr>\n",
       "    <tr>\n",
       "      <th>4</th>\n",
       "      <td>Honda Amaze VX i-DTEC</td>\n",
       "      <td>2014</td>\n",
       "      <td>450000</td>\n",
       "      <td>141000</td>\n",
       "      <td>1</td>\n",
       "      <td>1</td>\n",
       "      <td>0</td>\n",
       "      <td>1</td>\n",
       "    </tr>\n",
       "    <tr>\n",
       "      <th>5</th>\n",
       "      <td>Maruti Alto LX BSIII</td>\n",
       "      <td>2007</td>\n",
       "      <td>140000</td>\n",
       "      <td>125000</td>\n",
       "      <td>0</td>\n",
       "      <td>1</td>\n",
       "      <td>0</td>\n",
       "      <td>0</td>\n",
       "    </tr>\n",
       "    <tr>\n",
       "      <th>6</th>\n",
       "      <td>Hyundai Xcent 1.2 Kappa S</td>\n",
       "      <td>2016</td>\n",
       "      <td>550000</td>\n",
       "      <td>25000</td>\n",
       "      <td>0</td>\n",
       "      <td>1</td>\n",
       "      <td>0</td>\n",
       "      <td>0</td>\n",
       "    </tr>\n",
       "    <tr>\n",
       "      <th>7</th>\n",
       "      <td>Tata Indigo Grand Petrol</td>\n",
       "      <td>2014</td>\n",
       "      <td>240000</td>\n",
       "      <td>60000</td>\n",
       "      <td>0</td>\n",
       "      <td>1</td>\n",
       "      <td>0</td>\n",
       "      <td>1</td>\n",
       "    </tr>\n",
       "    <tr>\n",
       "      <th>8</th>\n",
       "      <td>Hyundai Creta 1.6 VTVT S</td>\n",
       "      <td>2015</td>\n",
       "      <td>850000</td>\n",
       "      <td>25000</td>\n",
       "      <td>0</td>\n",
       "      <td>1</td>\n",
       "      <td>0</td>\n",
       "      <td>0</td>\n",
       "    </tr>\n",
       "    <tr>\n",
       "      <th>9</th>\n",
       "      <td>Maruti Celerio Green VXI</td>\n",
       "      <td>2017</td>\n",
       "      <td>365000</td>\n",
       "      <td>78000</td>\n",
       "      <td>2</td>\n",
       "      <td>1</td>\n",
       "      <td>0</td>\n",
       "      <td>0</td>\n",
       "    </tr>\n",
       "    <tr>\n",
       "      <th>10</th>\n",
       "      <td>Chevrolet Sail 1.2 Base</td>\n",
       "      <td>2015</td>\n",
       "      <td>260000</td>\n",
       "      <td>35000</td>\n",
       "      <td>0</td>\n",
       "      <td>1</td>\n",
       "      <td>0</td>\n",
       "      <td>0</td>\n",
       "    </tr>\n",
       "    <tr>\n",
       "      <th>11</th>\n",
       "      <td>Tata Indigo Grand Petrol</td>\n",
       "      <td>2014</td>\n",
       "      <td>250000</td>\n",
       "      <td>100000</td>\n",
       "      <td>0</td>\n",
       "      <td>1</td>\n",
       "      <td>0</td>\n",
       "      <td>0</td>\n",
       "    </tr>\n",
       "    <tr>\n",
       "      <th>12</th>\n",
       "      <td>Toyota Corolla Altis 1.8 VL CVT</td>\n",
       "      <td>2018</td>\n",
       "      <td>1650000</td>\n",
       "      <td>25000</td>\n",
       "      <td>0</td>\n",
       "      <td>0</td>\n",
       "      <td>1</td>\n",
       "      <td>0</td>\n",
       "    </tr>\n",
       "    <tr>\n",
       "      <th>13</th>\n",
       "      <td>Maruti 800 AC</td>\n",
       "      <td>2007</td>\n",
       "      <td>60000</td>\n",
       "      <td>70000</td>\n",
       "      <td>0</td>\n",
       "      <td>1</td>\n",
       "      <td>0</td>\n",
       "      <td>0</td>\n",
       "    </tr>\n",
       "    <tr>\n",
       "      <th>14</th>\n",
       "      <td>Maruti Wagon R LXI Minor</td>\n",
       "      <td>2007</td>\n",
       "      <td>135000</td>\n",
       "      <td>50000</td>\n",
       "      <td>0</td>\n",
       "      <td>1</td>\n",
       "      <td>0</td>\n",
       "      <td>0</td>\n",
       "    </tr>\n",
       "    <tr>\n",
       "      <th>15</th>\n",
       "      <td>Hyundai Verna 1.6 SX</td>\n",
       "      <td>2012</td>\n",
       "      <td>600000</td>\n",
       "      <td>100000</td>\n",
       "      <td>1</td>\n",
       "      <td>1</td>\n",
       "      <td>0</td>\n",
       "      <td>0</td>\n",
       "    </tr>\n",
       "    <tr>\n",
       "      <th>16</th>\n",
       "      <td>Datsun RediGO T Option</td>\n",
       "      <td>2017</td>\n",
       "      <td>250000</td>\n",
       "      <td>46000</td>\n",
       "      <td>0</td>\n",
       "      <td>1</td>\n",
       "      <td>0</td>\n",
       "      <td>0</td>\n",
       "    </tr>\n",
       "    <tr>\n",
       "      <th>17</th>\n",
       "      <td>Honda Amaze VX i-DTEC</td>\n",
       "      <td>2014</td>\n",
       "      <td>450000</td>\n",
       "      <td>141000</td>\n",
       "      <td>1</td>\n",
       "      <td>1</td>\n",
       "      <td>0</td>\n",
       "      <td>1</td>\n",
       "    </tr>\n",
       "    <tr>\n",
       "      <th>18</th>\n",
       "      <td>Maruti Alto LX BSIII</td>\n",
       "      <td>2007</td>\n",
       "      <td>140000</td>\n",
       "      <td>125000</td>\n",
       "      <td>0</td>\n",
       "      <td>1</td>\n",
       "      <td>0</td>\n",
       "      <td>0</td>\n",
       "    </tr>\n",
       "    <tr>\n",
       "      <th>19</th>\n",
       "      <td>Hyundai Xcent 1.2 Kappa S</td>\n",
       "      <td>2016</td>\n",
       "      <td>550000</td>\n",
       "      <td>25000</td>\n",
       "      <td>0</td>\n",
       "      <td>1</td>\n",
       "      <td>0</td>\n",
       "      <td>0</td>\n",
       "    </tr>\n",
       "    <tr>\n",
       "      <th>20</th>\n",
       "      <td>Tata Indigo Grand Petrol</td>\n",
       "      <td>2014</td>\n",
       "      <td>240000</td>\n",
       "      <td>60000</td>\n",
       "      <td>0</td>\n",
       "      <td>1</td>\n",
       "      <td>0</td>\n",
       "      <td>1</td>\n",
       "    </tr>\n",
       "    <tr>\n",
       "      <th>21</th>\n",
       "      <td>Hyundai Creta 1.6 VTVT S</td>\n",
       "      <td>2015</td>\n",
       "      <td>850000</td>\n",
       "      <td>25000</td>\n",
       "      <td>0</td>\n",
       "      <td>1</td>\n",
       "      <td>0</td>\n",
       "      <td>0</td>\n",
       "    </tr>\n",
       "    <tr>\n",
       "      <th>22</th>\n",
       "      <td>Maruti Celerio Green VXI</td>\n",
       "      <td>2017</td>\n",
       "      <td>365000</td>\n",
       "      <td>78000</td>\n",
       "      <td>2</td>\n",
       "      <td>1</td>\n",
       "      <td>0</td>\n",
       "      <td>0</td>\n",
       "    </tr>\n",
       "    <tr>\n",
       "      <th>23</th>\n",
       "      <td>Chevrolet Sail 1.2 Base</td>\n",
       "      <td>2015</td>\n",
       "      <td>260000</td>\n",
       "      <td>35000</td>\n",
       "      <td>0</td>\n",
       "      <td>1</td>\n",
       "      <td>0</td>\n",
       "      <td>0</td>\n",
       "    </tr>\n",
       "    <tr>\n",
       "      <th>24</th>\n",
       "      <td>Tata Indigo Grand Petrol</td>\n",
       "      <td>2014</td>\n",
       "      <td>250000</td>\n",
       "      <td>100000</td>\n",
       "      <td>0</td>\n",
       "      <td>1</td>\n",
       "      <td>0</td>\n",
       "      <td>0</td>\n",
       "    </tr>\n",
       "    <tr>\n",
       "      <th>25</th>\n",
       "      <td>Toyota Corolla Altis 1.8 VL CVT</td>\n",
       "      <td>2018</td>\n",
       "      <td>1650000</td>\n",
       "      <td>25000</td>\n",
       "      <td>0</td>\n",
       "      <td>0</td>\n",
       "      <td>1</td>\n",
       "      <td>0</td>\n",
       "    </tr>\n",
       "    <tr>\n",
       "      <th>26</th>\n",
       "      <td>Maruti Ciaz VXi Plus</td>\n",
       "      <td>2015</td>\n",
       "      <td>585000</td>\n",
       "      <td>24000</td>\n",
       "      <td>0</td>\n",
       "      <td>0</td>\n",
       "      <td>0</td>\n",
       "      <td>0</td>\n",
       "    </tr>\n",
       "    <tr>\n",
       "      <th>27</th>\n",
       "      <td>Hyundai Venue SX Opt Diesel</td>\n",
       "      <td>2019</td>\n",
       "      <td>1195000</td>\n",
       "      <td>5000</td>\n",
       "      <td>1</td>\n",
       "      <td>0</td>\n",
       "      <td>0</td>\n",
       "      <td>0</td>\n",
       "    </tr>\n",
       "    <tr>\n",
       "      <th>28</th>\n",
       "      <td>Chevrolet Enjoy TCDi LTZ 7 Seater</td>\n",
       "      <td>2013</td>\n",
       "      <td>390000</td>\n",
       "      <td>33000</td>\n",
       "      <td>1</td>\n",
       "      <td>1</td>\n",
       "      <td>0</td>\n",
       "      <td>1</td>\n",
       "    </tr>\n",
       "    <tr>\n",
       "      <th>29</th>\n",
       "      <td>Jaguar XF 2.2 Litre Luxury</td>\n",
       "      <td>2014</td>\n",
       "      <td>1964999</td>\n",
       "      <td>28000</td>\n",
       "      <td>1</td>\n",
       "      <td>0</td>\n",
       "      <td>1</td>\n",
       "      <td>0</td>\n",
       "    </tr>\n",
       "  </tbody>\n",
       "</table>\n",
       "</div>"
      ],
      "text/plain": [
       "                                 name  year  selling_price  km_driven  fuel  \\\n",
       "0                       Maruti 800 AC  2007          60000      70000     0   \n",
       "1            Maruti Wagon R LXI Minor  2007         135000      50000     0   \n",
       "2                Hyundai Verna 1.6 SX  2012         600000     100000     1   \n",
       "3              Datsun RediGO T Option  2017         250000      46000     0   \n",
       "4               Honda Amaze VX i-DTEC  2014         450000     141000     1   \n",
       "5                Maruti Alto LX BSIII  2007         140000     125000     0   \n",
       "6           Hyundai Xcent 1.2 Kappa S  2016         550000      25000     0   \n",
       "7            Tata Indigo Grand Petrol  2014         240000      60000     0   \n",
       "8            Hyundai Creta 1.6 VTVT S  2015         850000      25000     0   \n",
       "9            Maruti Celerio Green VXI  2017         365000      78000     2   \n",
       "10            Chevrolet Sail 1.2 Base  2015         260000      35000     0   \n",
       "11           Tata Indigo Grand Petrol  2014         250000     100000     0   \n",
       "12    Toyota Corolla Altis 1.8 VL CVT  2018        1650000      25000     0   \n",
       "13                      Maruti 800 AC  2007          60000      70000     0   \n",
       "14           Maruti Wagon R LXI Minor  2007         135000      50000     0   \n",
       "15               Hyundai Verna 1.6 SX  2012         600000     100000     1   \n",
       "16             Datsun RediGO T Option  2017         250000      46000     0   \n",
       "17              Honda Amaze VX i-DTEC  2014         450000     141000     1   \n",
       "18               Maruti Alto LX BSIII  2007         140000     125000     0   \n",
       "19          Hyundai Xcent 1.2 Kappa S  2016         550000      25000     0   \n",
       "20           Tata Indigo Grand Petrol  2014         240000      60000     0   \n",
       "21           Hyundai Creta 1.6 VTVT S  2015         850000      25000     0   \n",
       "22           Maruti Celerio Green VXI  2017         365000      78000     2   \n",
       "23            Chevrolet Sail 1.2 Base  2015         260000      35000     0   \n",
       "24           Tata Indigo Grand Petrol  2014         250000     100000     0   \n",
       "25    Toyota Corolla Altis 1.8 VL CVT  2018        1650000      25000     0   \n",
       "26               Maruti Ciaz VXi Plus  2015         585000      24000     0   \n",
       "27        Hyundai Venue SX Opt Diesel  2019        1195000       5000     1   \n",
       "28  Chevrolet Enjoy TCDi LTZ 7 Seater  2013         390000      33000     1   \n",
       "29         Jaguar XF 2.2 Litre Luxury  2014        1964999      28000     1   \n",
       "\n",
       "    seller_type  transmission  owner  \n",
       "0             1             0      0  \n",
       "1             1             0      0  \n",
       "2             1             0      0  \n",
       "3             1             0      0  \n",
       "4             1             0      1  \n",
       "5             1             0      0  \n",
       "6             1             0      0  \n",
       "7             1             0      1  \n",
       "8             1             0      0  \n",
       "9             1             0      0  \n",
       "10            1             0      0  \n",
       "11            1             0      0  \n",
       "12            0             1      0  \n",
       "13            1             0      0  \n",
       "14            1             0      0  \n",
       "15            1             0      0  \n",
       "16            1             0      0  \n",
       "17            1             0      1  \n",
       "18            1             0      0  \n",
       "19            1             0      0  \n",
       "20            1             0      1  \n",
       "21            1             0      0  \n",
       "22            1             0      0  \n",
       "23            1             0      0  \n",
       "24            1             0      0  \n",
       "25            0             1      0  \n",
       "26            0             0      0  \n",
       "27            0             0      0  \n",
       "28            1             0      1  \n",
       "29            0             1      0  "
      ]
     },
     "execution_count": 13,
     "metadata": {},
     "output_type": "execute_result"
    }
   ],
   "source": [
    "df_main.head(30)"
   ]
  },
  {
   "cell_type": "markdown",
   "id": "2039ba3b",
   "metadata": {
    "papermill": {
     "duration": 0.010092,
     "end_time": "2023-02-15T05:30:26.284341",
     "exception": false,
     "start_time": "2023-02-15T05:30:26.274249",
     "status": "completed"
    },
    "tags": []
   },
   "source": [
    "# Splitting the data and Target"
   ]
  },
  {
   "cell_type": "code",
   "execution_count": 14,
   "id": "e3406f14",
   "metadata": {
    "papermill": {
     "duration": 0.0231,
     "end_time": "2023-02-15T05:30:26.320905",
     "exception": false,
     "start_time": "2023-02-15T05:30:26.297805",
     "status": "completed"
    },
    "tags": []
   },
   "outputs": [],
   "source": [
    "X = df_main.drop(['name','selling_price',],axis=1)\n",
    "Y = df_main['selling_price']"
   ]
  },
  {
   "cell_type": "code",
   "execution_count": 15,
   "id": "f399f15b",
   "metadata": {},
   "outputs": [
    {
     "data": {
      "text/plain": [
       "(      year  km_driven  fuel  seller_type  transmission  owner\n",
       " 0     2007      70000     0            1             0      0\n",
       " 1     2007      50000     0            1             0      0\n",
       " 2     2012     100000     1            1             0      0\n",
       " 3     2017      46000     0            1             0      0\n",
       " 4     2014     141000     1            1             0      1\n",
       " ...    ...        ...   ...          ...           ...    ...\n",
       " 4335  2014      80000     1            1             0      1\n",
       " 4336  2014      80000     1            1             0      1\n",
       " 4337  2009      83000     0            1             0      1\n",
       " 4338  2016      90000     1            1             0      0\n",
       " 4339  2016      40000     0            1             0      0\n",
       " \n",
       " [4340 rows x 6 columns],\n",
       " 0        60000\n",
       " 1       135000\n",
       " 2       600000\n",
       " 3       250000\n",
       " 4       450000\n",
       "          ...  \n",
       " 4335    409999\n",
       " 4336    409999\n",
       " 4337    110000\n",
       " 4338    865000\n",
       " 4339    225000\n",
       " Name: selling_price, Length: 4340, dtype: int64)"
      ]
     },
     "execution_count": 15,
     "metadata": {},
     "output_type": "execute_result"
    }
   ],
   "source": [
    "X,Y"
   ]
  },
  {
   "cell_type": "code",
   "execution_count": 16,
   "id": "d4812c43",
   "metadata": {
    "papermill": {
     "duration": 0.028483,
     "end_time": "2023-02-15T05:30:26.359098",
     "exception": false,
     "start_time": "2023-02-15T05:30:26.330615",
     "status": "completed"
    },
    "tags": []
   },
   "outputs": [
    {
     "name": "stdout",
     "output_type": "stream",
     "text": [
      "      year  km_driven  fuel  seller_type  transmission  owner\n",
      "0     2007      70000     0            1             0      0\n",
      "1     2007      50000     0            1             0      0\n",
      "2     2012     100000     1            1             0      0\n",
      "3     2017      46000     0            1             0      0\n",
      "4     2014     141000     1            1             0      1\n",
      "...    ...        ...   ...          ...           ...    ...\n",
      "4335  2014      80000     1            1             0      1\n",
      "4336  2014      80000     1            1             0      1\n",
      "4337  2009      83000     0            1             0      1\n",
      "4338  2016      90000     1            1             0      0\n",
      "4339  2016      40000     0            1             0      0\n",
      "\n",
      "[4340 rows x 6 columns]\n",
      "0        60000\n",
      "1       135000\n",
      "2       600000\n",
      "3       250000\n",
      "4       450000\n",
      "         ...  \n",
      "4335    409999\n",
      "4336    409999\n",
      "4337    110000\n",
      "4338    865000\n",
      "4339    225000\n",
      "Name: selling_price, Length: 4340, dtype: int64\n"
     ]
    }
   ],
   "source": [
    "print(X)\n",
    "print(Y)"
   ]
  },
  {
   "cell_type": "code",
   "execution_count": 17,
   "id": "fa0f8521",
   "metadata": {
    "papermill": {
     "duration": 0.022982,
     "end_time": "2023-02-15T05:30:26.395555",
     "exception": false,
     "start_time": "2023-02-15T05:30:26.372573",
     "status": "completed"
    },
    "tags": []
   },
   "outputs": [
    {
     "name": "stdout",
     "output_type": "stream",
     "text": [
      "int64\n",
      "year            int64\n",
      "km_driven       int64\n",
      "fuel            int64\n",
      "seller_type     int64\n",
      "transmission    int64\n",
      "owner           int64\n",
      "dtype: object\n"
     ]
    }
   ],
   "source": [
    "print(Y.dtypes)\n",
    "print(X.dtypes)"
   ]
  },
  {
   "cell_type": "code",
   "execution_count": 18,
   "id": "32c35e3d",
   "metadata": {},
   "outputs": [
    {
     "data": {
      "text/plain": [
       "((4340, 6), (4340,))"
      ]
     },
     "execution_count": 18,
     "metadata": {},
     "output_type": "execute_result"
    }
   ],
   "source": [
    "X.shape,Y.shape"
   ]
  },
  {
   "cell_type": "markdown",
   "id": "60216e43",
   "metadata": {
    "papermill": {
     "duration": 0.009443,
     "end_time": "2023-02-15T05:30:26.416877",
     "exception": false,
     "start_time": "2023-02-15T05:30:26.407434",
     "status": "completed"
    },
    "tags": []
   },
   "source": [
    "# Splitting Training and Test data"
   ]
  },
  {
   "cell_type": "code",
   "execution_count": 19,
   "id": "057923a2",
   "metadata": {
    "papermill": {
     "duration": 0.026008,
     "end_time": "2023-02-15T05:30:26.452193",
     "exception": false,
     "start_time": "2023-02-15T05:30:26.426185",
     "status": "completed"
    },
    "tags": []
   },
   "outputs": [],
   "source": [
    "X_train, X_test, Y_train, Y_test = train_test_split(X, Y, test_size = 0.2, random_state=2)"
   ]
  },
  {
   "cell_type": "code",
   "execution_count": 20,
   "id": "5762e830",
   "metadata": {},
   "outputs": [
    {
     "data": {
      "text/plain": [
       "((3472, 6), (3472,))"
      ]
     },
     "execution_count": 20,
     "metadata": {},
     "output_type": "execute_result"
    }
   ],
   "source": [
    "X_train.shape,Y_train.shape"
   ]
  },
  {
   "cell_type": "markdown",
   "id": "2bd29590",
   "metadata": {
    "papermill": {
     "duration": 0.010061,
     "end_time": "2023-02-15T05:30:26.476055",
     "exception": false,
     "start_time": "2023-02-15T05:30:26.465994",
     "status": "completed"
    },
    "tags": []
   },
   "source": [
    "# Model Training"
   ]
  },
  {
   "cell_type": "markdown",
   "id": "a1f143d6",
   "metadata": {
    "papermill": {
     "duration": 0.011539,
     "end_time": "2023-02-15T05:30:26.498081",
     "exception": false,
     "start_time": "2023-02-15T05:30:26.486542",
     "status": "completed"
    },
    "tags": []
   },
   "source": [
    "**1. Linear Regression**"
   ]
  },
  {
   "cell_type": "code",
   "execution_count": 21,
   "id": "8fc55cd1",
   "metadata": {
    "papermill": {
     "duration": 0.016856,
     "end_time": "2023-02-15T05:30:26.525315",
     "exception": false,
     "start_time": "2023-02-15T05:30:26.508459",
     "status": "completed"
    },
    "tags": []
   },
   "outputs": [],
   "source": [
    "# loading the linear regression model\n",
    "lin_reg_model = LinearRegression()"
   ]
  },
  {
   "cell_type": "code",
   "execution_count": 22,
   "id": "5b82981a",
   "metadata": {
    "papermill": {
     "duration": 0.042709,
     "end_time": "2023-02-15T05:30:26.576882",
     "exception": false,
     "start_time": "2023-02-15T05:30:26.534173",
     "status": "completed"
    },
    "tags": []
   },
   "outputs": [
    {
     "data": {
      "text/html": [
       "<style>#sk-container-id-1 {color: black;background-color: white;}#sk-container-id-1 pre{padding: 0;}#sk-container-id-1 div.sk-toggleable {background-color: white;}#sk-container-id-1 label.sk-toggleable__label {cursor: pointer;display: block;width: 100%;margin-bottom: 0;padding: 0.3em;box-sizing: border-box;text-align: center;}#sk-container-id-1 label.sk-toggleable__label-arrow:before {content: \"▸\";float: left;margin-right: 0.25em;color: #696969;}#sk-container-id-1 label.sk-toggleable__label-arrow:hover:before {color: black;}#sk-container-id-1 div.sk-estimator:hover label.sk-toggleable__label-arrow:before {color: black;}#sk-container-id-1 div.sk-toggleable__content {max-height: 0;max-width: 0;overflow: hidden;text-align: left;background-color: #f0f8ff;}#sk-container-id-1 div.sk-toggleable__content pre {margin: 0.2em;color: black;border-radius: 0.25em;background-color: #f0f8ff;}#sk-container-id-1 input.sk-toggleable__control:checked~div.sk-toggleable__content {max-height: 200px;max-width: 100%;overflow: auto;}#sk-container-id-1 input.sk-toggleable__control:checked~label.sk-toggleable__label-arrow:before {content: \"▾\";}#sk-container-id-1 div.sk-estimator input.sk-toggleable__control:checked~label.sk-toggleable__label {background-color: #d4ebff;}#sk-container-id-1 div.sk-label input.sk-toggleable__control:checked~label.sk-toggleable__label {background-color: #d4ebff;}#sk-container-id-1 input.sk-hidden--visually {border: 0;clip: rect(1px 1px 1px 1px);clip: rect(1px, 1px, 1px, 1px);height: 1px;margin: -1px;overflow: hidden;padding: 0;position: absolute;width: 1px;}#sk-container-id-1 div.sk-estimator {font-family: monospace;background-color: #f0f8ff;border: 1px dotted black;border-radius: 0.25em;box-sizing: border-box;margin-bottom: 0.5em;}#sk-container-id-1 div.sk-estimator:hover {background-color: #d4ebff;}#sk-container-id-1 div.sk-parallel-item::after {content: \"\";width: 100%;border-bottom: 1px solid gray;flex-grow: 1;}#sk-container-id-1 div.sk-label:hover label.sk-toggleable__label {background-color: #d4ebff;}#sk-container-id-1 div.sk-serial::before {content: \"\";position: absolute;border-left: 1px solid gray;box-sizing: border-box;top: 0;bottom: 0;left: 50%;z-index: 0;}#sk-container-id-1 div.sk-serial {display: flex;flex-direction: column;align-items: center;background-color: white;padding-right: 0.2em;padding-left: 0.2em;position: relative;}#sk-container-id-1 div.sk-item {position: relative;z-index: 1;}#sk-container-id-1 div.sk-parallel {display: flex;align-items: stretch;justify-content: center;background-color: white;position: relative;}#sk-container-id-1 div.sk-item::before, #sk-container-id-1 div.sk-parallel-item::before {content: \"\";position: absolute;border-left: 1px solid gray;box-sizing: border-box;top: 0;bottom: 0;left: 50%;z-index: -1;}#sk-container-id-1 div.sk-parallel-item {display: flex;flex-direction: column;z-index: 1;position: relative;background-color: white;}#sk-container-id-1 div.sk-parallel-item:first-child::after {align-self: flex-end;width: 50%;}#sk-container-id-1 div.sk-parallel-item:last-child::after {align-self: flex-start;width: 50%;}#sk-container-id-1 div.sk-parallel-item:only-child::after {width: 0;}#sk-container-id-1 div.sk-dashed-wrapped {border: 1px dashed gray;margin: 0 0.4em 0.5em 0.4em;box-sizing: border-box;padding-bottom: 0.4em;background-color: white;}#sk-container-id-1 div.sk-label label {font-family: monospace;font-weight: bold;display: inline-block;line-height: 1.2em;}#sk-container-id-1 div.sk-label-container {text-align: center;}#sk-container-id-1 div.sk-container {/* jupyter's `normalize.less` sets `[hidden] { display: none; }` but bootstrap.min.css set `[hidden] { display: none !important; }` so we also need the `!important` here to be able to override the default hidden behavior on the sphinx rendered scikit-learn.org. See: https://github.com/scikit-learn/scikit-learn/issues/21755 */display: inline-block !important;position: relative;}#sk-container-id-1 div.sk-text-repr-fallback {display: none;}</style><div id=\"sk-container-id-1\" class=\"sk-top-container\"><div class=\"sk-text-repr-fallback\"><pre>LinearRegression()</pre><b>In a Jupyter environment, please rerun this cell to show the HTML representation or trust the notebook. <br />On GitHub, the HTML representation is unable to render, please try loading this page with nbviewer.org.</b></div><div class=\"sk-container\" hidden><div class=\"sk-item\"><div class=\"sk-estimator sk-toggleable\"><input class=\"sk-toggleable__control sk-hidden--visually\" id=\"sk-estimator-id-1\" type=\"checkbox\" checked><label for=\"sk-estimator-id-1\" class=\"sk-toggleable__label sk-toggleable__label-arrow\">LinearRegression</label><div class=\"sk-toggleable__content\"><pre>LinearRegression()</pre></div></div></div></div></div>"
      ],
      "text/plain": [
       "LinearRegression()"
      ]
     },
     "execution_count": 22,
     "metadata": {},
     "output_type": "execute_result"
    }
   ],
   "source": [
    "lin_reg_model.fit(X_train,Y_train)"
   ]
  },
  {
   "cell_type": "code",
   "execution_count": 32,
   "id": "5c8ffc4e",
   "metadata": {
    "papermill": {
     "duration": 0.020595,
     "end_time": "2023-02-15T05:30:26.607405",
     "exception": false,
     "start_time": "2023-02-15T05:30:26.586810",
     "status": "completed"
    },
    "tags": []
   },
   "outputs": [
    {
     "name": "stdout",
     "output_type": "stream",
     "text": [
      "[ 669404.06675813  500098.15418781 1361234.77432092 ...  520850.1694099\n",
      "  386004.66406068  509396.7924495 ]\n",
      "60000\n"
     ]
    }
   ],
   "source": [
    "# prediction on Training data\n",
    "training_data_prediction = lin_reg_model.predict(X_train)\n",
    "print(training_data_prediction)\n",
    "print(Y_train[0])"
   ]
  },
  {
   "cell_type": "code",
   "execution_count": 33,
   "id": "30a81c23",
   "metadata": {
    "papermill": {
     "duration": 0.021287,
     "end_time": "2023-02-15T05:30:26.638210",
     "exception": false,
     "start_time": "2023-02-15T05:30:26.616923",
     "status": "completed"
    },
    "tags": []
   },
   "outputs": [
    {
     "name": "stdout",
     "output_type": "stream",
     "text": [
      "R squared Error :  0.423331057072869\n"
     ]
    }
   ],
   "source": [
    "# R squared Error\n",
    "error_score = metrics.r2_score(Y_train, training_data_prediction)\n",
    "print(\"R squared Error : \", error_score)"
   ]
  },
  {
   "cell_type": "markdown",
   "id": "f5ad1a21",
   "metadata": {
    "papermill": {
     "duration": 0.008368,
     "end_time": "2023-02-15T05:30:26.655340",
     "exception": false,
     "start_time": "2023-02-15T05:30:26.646972",
     "status": "completed"
    },
    "tags": []
   },
   "source": [
    "# Visualize the actual prices and Predicted prices"
   ]
  },
  {
   "cell_type": "code",
   "execution_count": 37,
   "id": "1d9dfe0d",
   "metadata": {
    "papermill": {
     "duration": 0.211326,
     "end_time": "2023-02-15T05:30:26.875674",
     "exception": false,
     "start_time": "2023-02-15T05:30:26.664348",
     "status": "completed"
    },
    "tags": []
   },
   "outputs": [
    {
     "data": {
      "image/png": "[encoded data removed]",
      "text/plain": [
       "<Figure size 640x480 with 1 Axes>"
      ]
     },
     "metadata": {},
     "output_type": "display_data"
    }
   ],
   "source": [
    "plt.scatter(Y_train, training_data_prediction)\n",
    "plt.xlabel(\"Actual Price\")\n",
    "plt.ylabel(\"Predicted Price\")\n",
    "plt.title(\" Actual Prices vs Predicted Prices\")\n",
    "plt.show()"
   ]
  },
  {
   "cell_type": "code",
   "execution_count": 38,
   "id": "9ad30fd8",
   "metadata": {
    "papermill": {
     "duration": 0.017684,
     "end_time": "2023-02-15T05:30:26.902741",
     "exception": false,
     "start_time": "2023-02-15T05:30:26.885057",
     "status": "completed"
    },
    "tags": []
   },
   "outputs": [
    {
     "data": {
      "text/plain": [
       "array([ 669404.06675813,  500098.15418781, 1361234.77432092, ...,\n",
       "        520850.1694099 ,  386004.66406068,  509396.7924495 ])"
      ]
     },
     "execution_count": 38,
     "metadata": {},
     "output_type": "execute_result"
    }
   ],
   "source": [
    "# prediction on Training data\n",
    "test_data_prediction = lin_reg_model.predict(X_train)\n",
    "test_data_prediction\n"
   ]
  },
  {
   "cell_type": "code",
   "execution_count": 40,
   "id": "75bbd0b9",
   "metadata": {
    "papermill": {
     "duration": 0.018643,
     "end_time": "2023-02-15T05:30:26.930453",
     "exception": false,
     "start_time": "2023-02-15T05:30:26.911810",
     "status": "completed"
    },
    "tags": []
   },
   "outputs": [
    {
     "name": "stdout",
     "output_type": "stream",
     "text": [
      "R squared Error :  0.423331057072869\n"
     ]
    }
   ],
   "source": [
    "# R squared Error\n",
    "error_score = metrics.r2_score(Y_train, test_data_prediction)\n",
    "print(\"R squared Error : \", error_score)"
   ]
  },
  {
   "cell_type": "code",
   "execution_count": 42,
   "id": "90b522f2",
   "metadata": {
    "papermill": {
     "duration": 0.16916,
     "end_time": "2023-02-15T05:30:27.109347",
     "exception": false,
     "start_time": "2023-02-15T05:30:26.940187",
     "status": "completed"
    },
    "tags": []
   },
   "outputs": [
    {
     "data": {
      "image/png": "[encoded data removed]",
      "text/plain": [
       "<Figure size 640x480 with 1 Axes>"
      ]
     },
     "metadata": {},
     "output_type": "display_data"
    }
   ],
   "source": [
    "plt.scatter(Y_train, test_data_prediction)\n",
    "plt.xlabel(\"Actual Price\")\n",
    "plt.ylabel(\"Predicted Price\")\n",
    "plt.title(\" Actual Prices vs Predicted Prices\")\n",
    "plt.show()"
   ]
  },
  {
   "cell_type": "markdown",
   "id": "3a217f6f",
   "metadata": {
    "papermill": {
     "duration": 0.009415,
     "end_time": "2023-02-15T05:30:27.129144",
     "exception": false,
     "start_time": "2023-02-15T05:30:27.119729",
     "status": "completed"
    },
    "tags": []
   },
   "source": [
    "#### **2. Lasso Regression**"
   ]
  },
  {
   "cell_type": "code",
   "execution_count": 43,
   "id": "3ff983d8",
   "metadata": {
    "papermill": {
     "duration": 0.018101,
     "end_time": "2023-02-15T05:30:27.156624",
     "exception": false,
     "start_time": "2023-02-15T05:30:27.138523",
     "status": "completed"
    },
    "tags": []
   },
   "outputs": [],
   "source": [
    "# loading the linear regression model\n",
    "lass_reg_model = Lasso()"
   ]
  },
  {
   "cell_type": "code",
   "execution_count": 44,
   "id": "ef2155d8",
   "metadata": {
    "papermill": {
     "duration": 0.024999,
     "end_time": "2023-02-15T05:30:27.191281",
     "exception": false,
     "start_time": "2023-02-15T05:30:27.166282",
     "status": "completed"
    },
    "tags": []
   },
   "outputs": [
    {
     "data": {
      "text/html": [
       "<style>#sk-container-id-2 {color: black;background-color: white;}#sk-container-id-2 pre{padding: 0;}#sk-container-id-2 div.sk-toggleable {background-color: white;}#sk-container-id-2 label.sk-toggleable__label {cursor: pointer;display: block;width: 100%;margin-bottom: 0;padding: 0.3em;box-sizing: border-box;text-align: center;}#sk-container-id-2 label.sk-toggleable__label-arrow:before {content: \"▸\";float: left;margin-right: 0.25em;color: #696969;}#sk-container-id-2 label.sk-toggleable__label-arrow:hover:before {color: black;}#sk-container-id-2 div.sk-estimator:hover label.sk-toggleable__label-arrow:before {color: black;}#sk-container-id-2 div.sk-toggleable__content {max-height: 0;max-width: 0;overflow: hidden;text-align: left;background-color: #f0f8ff;}#sk-container-id-2 div.sk-toggleable__content pre {margin: 0.2em;color: black;border-radius: 0.25em;background-color: #f0f8ff;}#sk-container-id-2 input.sk-toggleable__control:checked~div.sk-toggleable__content {max-height: 200px;max-width: 100%;overflow: auto;}#sk-container-id-2 input.sk-toggleable__control:checked~label.sk-toggleable__label-arrow:before {content: \"▾\";}#sk-container-id-2 div.sk-estimator input.sk-toggleable__control:checked~label.sk-toggleable__label {background-color: #d4ebff;}#sk-container-id-2 div.sk-label input.sk-toggleable__control:checked~label.sk-toggleable__label {background-color: #d4ebff;}#sk-container-id-2 input.sk-hidden--visually {border: 0;clip: rect(1px 1px 1px 1px);clip: rect(1px, 1px, 1px, 1px);height: 1px;margin: -1px;overflow: hidden;padding: 0;position: absolute;width: 1px;}#sk-container-id-2 div.sk-estimator {font-family: monospace;background-color: #f0f8ff;border: 1px dotted black;border-radius: 0.25em;box-sizing: border-box;margin-bottom: 0.5em;}#sk-container-id-2 div.sk-estimator:hover {background-color: #d4ebff;}#sk-container-id-2 div.sk-parallel-item::after {content: \"\";width: 100%;border-bottom: 1px solid gray;flex-grow: 1;}#sk-container-id-2 div.sk-label:hover label.sk-toggleable__label {background-color: #d4ebff;}#sk-container-id-2 div.sk-serial::before {content: \"\";position: absolute;border-left: 1px solid gray;box-sizing: border-box;top: 0;bottom: 0;left: 50%;z-index: 0;}#sk-container-id-2 div.sk-serial {display: flex;flex-direction: column;align-items: center;background-color: white;padding-right: 0.2em;padding-left: 0.2em;position: relative;}#sk-container-id-2 div.sk-item {position: relative;z-index: 1;}#sk-container-id-2 div.sk-parallel {display: flex;align-items: stretch;justify-content: center;background-color: white;position: relative;}#sk-container-id-2 div.sk-item::before, #sk-container-id-2 div.sk-parallel-item::before {content: \"\";position: absolute;border-left: 1px solid gray;box-sizing: border-box;top: 0;bottom: 0;left: 50%;z-index: -1;}#sk-container-id-2 div.sk-parallel-item {display: flex;flex-direction: column;z-index: 1;position: relative;background-color: white;}#sk-container-id-2 div.sk-parallel-item:first-child::after {align-self: flex-end;width: 50%;}#sk-container-id-2 div.sk-parallel-item:last-child::after {align-self: flex-start;width: 50%;}#sk-container-id-2 div.sk-parallel-item:only-child::after {width: 0;}#sk-container-id-2 div.sk-dashed-wrapped {border: 1px dashed gray;margin: 0 0.4em 0.5em 0.4em;box-sizing: border-box;padding-bottom: 0.4em;background-color: white;}#sk-container-id-2 div.sk-label label {font-family: monospace;font-weight: bold;display: inline-block;line-height: 1.2em;}#sk-container-id-2 div.sk-label-container {text-align: center;}#sk-container-id-2 div.sk-container {/* jupyter's `normalize.less` sets `[hidden] { display: none; }` but bootstrap.min.css set `[hidden] { display: none !important; }` so we also need the `!important` here to be able to override the default hidden behavior on the sphinx rendered scikit-learn.org. See: https://github.com/scikit-learn/scikit-learn/issues/21755 */display: inline-block !important;position: relative;}#sk-container-id-2 div.sk-text-repr-fallback {display: none;}</style><div id=\"sk-container-id-2\" class=\"sk-top-container\"><div class=\"sk-text-repr-fallback\"><pre>Lasso()</pre><b>In a Jupyter environment, please rerun this cell to show the HTML representation or trust the notebook. <br />On GitHub, the HTML representation is unable to render, please try loading this page with nbviewer.org.</b></div><div class=\"sk-container\" hidden><div class=\"sk-item\"><div class=\"sk-estimator sk-toggleable\"><input class=\"sk-toggleable__control sk-hidden--visually\" id=\"sk-estimator-id-2\" type=\"checkbox\" checked><label for=\"sk-estimator-id-2\" class=\"sk-toggleable__label sk-toggleable__label-arrow\">Lasso</label><div class=\"sk-toggleable__content\"><pre>Lasso()</pre></div></div></div></div></div>"
      ],
      "text/plain": [
       "Lasso()"
      ]
     },
     "execution_count": 44,
     "metadata": {},
     "output_type": "execute_result"
    }
   ],
   "source": [
    "lass_reg_model.fit(X_train,Y_train)"
   ]
  },
  {
   "cell_type": "markdown",
   "id": "0665193d",
   "metadata": {
    "papermill": {
     "duration": 0.009867,
     "end_time": "2023-02-15T05:30:27.210886",
     "exception": false,
     "start_time": "2023-02-15T05:30:27.201019",
     "status": "completed"
    },
    "tags": []
   },
   "source": [
    "# Model Evaluation"
   ]
  },
  {
   "cell_type": "code",
   "execution_count": 46,
   "id": "f91e5e85",
   "metadata": {
    "papermill": {
     "duration": 0.020441,
     "end_time": "2023-02-15T05:30:27.241682",
     "exception": false,
     "start_time": "2023-02-15T05:30:27.221241",
     "status": "completed"
    },
    "tags": []
   },
   "outputs": [
    {
     "data": {
      "text/plain": [
       "array([ 4.78946016e+05,  1.41542739e+06,  1.83902119e+05,  1.39072920e+06,\n",
       "        7.16584530e+05,  4.84974258e+05,  3.79637275e+05, -3.39994444e+04,\n",
       "        3.03731683e+05,  5.26786259e+05,  2.69156215e+05,  1.00855160e+05,\n",
       "        1.29396519e+06,  5.89694409e+05, -1.62134728e+05,  1.56439900e+06,\n",
       "        4.98553993e+05,  5.68349677e+05,  1.45511666e+06,  4.41141220e+05,\n",
       "        4.58235803e+05,  3.32128630e+05,  1.27944117e+05,  1.18562203e+06,\n",
       "        1.57243553e+06,  4.84974258e+05,  1.44494962e+06,  6.42221328e+05,\n",
       "        3.50456456e+05,  9.28111916e+05,  3.63836705e+05,  4.36301539e+04,\n",
       "        7.21267160e+05,  5.35224135e+05,  1.58077836e+04,  1.45511666e+06,\n",
       "        4.80691943e+05,  2.80985653e+05,  5.33489927e+05,  5.65946039e+05,\n",
       "        7.93889045e+05,  6.60333473e+05,  1.38404325e+06,  6.76095263e+05,\n",
       "        1.53318343e+06,  3.23359156e+05,  5.28547813e+05,  5.39913518e+05,\n",
       "        5.74800940e+05,  2.99600663e+05,  5.38848740e+05,  3.57150751e+05,\n",
       "        4.64891372e+05,  6.95508720e+05,  3.65928567e+05,  2.08915898e+05,\n",
       "        6.01742546e+05,  4.61544225e+05,  5.32154444e+05,  5.79334630e+05,\n",
       "        5.15415329e+05,  6.28926796e+05,  5.19431906e+05,  6.25475477e+05,\n",
       "        3.63845047e+05, -6.07682843e+04,  4.71582291e+05,  2.42387375e+05,\n",
       "        4.71582291e+05,  6.13870886e+05,  1.74795844e+05,  3.72942980e+05,\n",
       "        5.46826688e+05,  5.70628669e+05,  6.08843909e+05,  3.89663962e+05,\n",
       "        3.45096593e+05,  5.25460149e+05,  1.41542739e+06,  5.83746557e+05,\n",
       "        6.25510672e+05,  6.56015753e+05,  4.73989305e+05,  1.42128624e+06,\n",
       "        2.92586249e+05,  2.59123114e+05,  4.87377896e+05,  5.27872128e+05,\n",
       "        1.63803280e+06,  3.81649455e+05,  5.01657060e+05,  2.21976029e+05,\n",
       "        8.53514312e+05,  6.35932867e+05,  1.50217462e+06,  5.00766487e+05,\n",
       "        7.80500455e+05,  3.15326002e+05,  5.27863787e+05,  1.93539871e+05,\n",
       "        5.65554810e+05, -4.77081532e+04,  6.42221328e+05,  4.46900348e+05,\n",
       "        3.90610510e+05,  4.19794706e+05,  5.79998162e+05,  2.23458117e+05,\n",
       "        3.46044032e+05,  6.62467715e+05,  5.75389907e+05,  1.53318343e+06,\n",
       "        4.87377896e+05,  5.79738321e+05,  3.42506874e+05,  4.19794706e+05,\n",
       "        7.81380055e+05,  6.33834045e+05,  4.06406115e+05,  2.08915898e+05,\n",
       "        4.48988913e+05,  4.78946016e+05,  4.37794073e+05,  1.38131115e+06,\n",
       "        5.27428912e+05,  3.67200536e+05,  5.08448601e+05,  1.47698544e+05,\n",
       "        3.72951322e+05,  6.56024095e+05,  3.12382545e+05,  5.68349677e+05,\n",
       "        1.40078030e+06,  4.83632023e+05,  5.70058630e+05,  4.87057778e+05,\n",
       "        1.42648441e+05,  3.67916003e+05,  2.98665494e+05,  6.52348488e+05,\n",
       "        4.00031938e+05,  3.52581485e+05,  6.03609273e+04,  4.81003719e+05,\n",
       "        5.70963384e+05,  4.51502781e+05,  3.03267928e+05,  7.00514844e+05,\n",
       "        1.01853840e+05,  3.40752606e+05,  6.81785414e+05,  7.77819360e+05,\n",
       "        6.22224158e+05,  5.79334630e+05, -8.51753557e+04,  5.84741069e+05,\n",
       "        2.55775966e+05,  3.99391702e+05,  5.61652005e+05,  6.26237359e+05,\n",
       "        6.56015753e+05,  7.36667416e+05,  1.43892475e+06,  4.17299843e+05,\n",
       "        4.91668554e+05,  1.33311222e+06,  5.18774195e+05,  1.41335952e+06,\n",
       "        1.46161350e+06,  5.81738268e+05,  3.89990495e+05,  4.54529811e+05,\n",
       "        3.52876777e+05,  5.58628352e+05,  7.40014564e+05,  4.74263386e+05,\n",
       "        6.96850956e+05,  1.88184434e+05,  2.31348043e+05,  5.27863787e+05,\n",
       "        3.08706938e+05,  4.46900348e+05,  5.60670491e+05,  5.21169491e+05,\n",
       "        3.36444473e+05,  6.01821154e+05,  6.35932867e+05,  1.41593950e+06,\n",
       "        2.37776600e+05,  5.59608165e+05,  3.99711820e+05,  4.93926579e+04,\n",
       "        3.38086606e+05,  4.53586301e+05,  2.77533427e+05,  1.40914814e+06,\n",
       "        1.88512894e+05,  2.76170629e+05,  3.06303300e+05,  2.15344455e+05,\n",
       "        6.82792935e+05,  3.50097173e+05,  1.15574268e+05,  6.76098640e+05,\n",
       "        1.61632151e+05,  4.80363483e+05,  1.56105523e+06,  4.70330382e+05,\n",
       "        3.23350815e+05,  5.12411184e+05,  1.34958531e+05,  1.54426594e+06,\n",
       "        7.02875821e+05,  5.99737634e+05,  5.16754188e+05,  2.15281734e+05,\n",
       "        2.96590317e+05,  4.33503415e+05,  2.68977921e+04,  1.40974393e+06,\n",
       "        9.58323513e+04,  7.17777424e+05,  1.40717658e+05,  6.17613383e+05,\n",
       "        6.28723751e+05,  3.53529523e+05,  1.75124303e+05,  8.31027788e+05,\n",
       "        1.81818599e+05,  5.87093704e+05,  1.88184434e+05,  1.54140410e+06,\n",
       "       -2.06108536e+04,  1.21249822e+05,  1.41542739e+06,  1.72600398e+04,\n",
       "        1.44369390e+06,  5.02434989e+05,  4.06028403e+05,  5.27803152e+05,\n",
       "        4.91668554e+05,  8.28346693e+05,  4.73989305e+05,  1.71457038e+05,\n",
       "        4.14098300e+05,  4.45825214e+05,  4.84970882e+05,  6.23730345e+05,\n",
       "        3.37861340e+05,  1.52257425e+06,  3.12045744e+05,  3.47285569e+05,\n",
       "        5.55107590e+05,  3.79974077e+05,  3.03474651e+05,  1.69455926e+06,\n",
       "        5.00766487e+05, -9.42189095e+04,  1.90924874e+05, -1.28351474e+05,\n",
       "        1.43223046e+06,  3.48194939e+05,  2.88919085e+05,  2.95880203e+04,\n",
       "        2.21976029e+05,  5.01040567e+05,  3.56822292e+05,  6.15529863e+05,\n",
       "        1.05957367e+05,  6.11189791e+05,  6.61367813e+05,  4.37794073e+05,\n",
       "        2.91642739e+05,  5.59917797e+05,  6.01821154e+05,  5.82681778e+05,\n",
       "       -5.27967321e+02,  4.98682967e+05,  1.71128578e+05,  3.03731683e+05,\n",
       "        4.24405482e+05,  5.45597415e+05,  3.77233638e+05,  1.25824551e+06,\n",
       "        1.67683735e+06,  5.75987483e+05,  7.65714065e+05,  1.35185287e+06,\n",
       "        5.68034524e+05,  4.94400651e+05,  4.04002478e+05,  2.49410131e+05,\n",
       "        4.00040280e+05,  1.00846818e+05,  5.35501592e+05,  5.00766487e+05,\n",
       "        5.79930550e+05, -6.07682843e+04,  1.47025738e+05,  4.60280597e+05,\n",
       "        2.55775966e+05,  4.44488368e+05,  4.66974892e+05, -4.43610055e+04,\n",
       "        5.06736175e+05, -8.78655839e+04,  3.79637275e+05,  4.25357979e+05,\n",
       "       -4.77081532e+04,  4.98924501e+05,  3.90613887e+05,  1.23508121e+06,\n",
       "       -2.97309450e+05,  3.35920875e+04,  3.72942980e+05,  5.28807297e+05,\n",
       "       -7.22226274e+03,  1.57176610e+06,  3.74622809e+05,  1.14227067e+05,\n",
       "        3.24103817e+05,  1.41415586e+06,  4.28418682e+05,  4.00655330e+05,\n",
       "        1.42722771e+06,  7.87194750e+05,  1.65942880e+06,  6.32931654e+05,\n",
       "        2.67150014e+05,  3.45837339e+05,  6.95038810e+05,  5.46166630e+05,\n",
       "        4.65224052e+04,  9.44893240e+04,  4.44488368e+05,  4.80957681e+05,\n",
       "        5.70058630e+05,  1.48027004e+05,  2.48753211e+05,  3.12702663e+05,\n",
       "        3.32448748e+05,  2.25726868e+05,  5.18765854e+05,  4.26489002e+05,\n",
       "        3.90934005e+05,  1.13141492e+06,  6.31932974e+05,  4.40846288e+05,\n",
       "        1.61693800e+06,  4.52596754e+05,  2.82873266e+05,  7.66439058e+05,\n",
       "        3.45096593e+05,  5.13482272e+05,  7.26634315e+05,  1.43256517e+06,\n",
       "       -1.55448774e+05,  5.58477439e+05,  1.54712957e+05,  3.93674444e+05,\n",
       "        4.47835516e+05,  6.12499457e+05,  5.13482272e+05,  5.36903172e+05,\n",
       "        3.45845680e+05, -1.01911094e+05,  5.17864357e+05,  7.66331279e+05,\n",
       "        2.85547607e+05,  4.42584481e+05,  4.97221828e+05,  2.91642739e+05,\n",
       "        3.90610510e+05, -3.51183931e+05,  5.07789242e+05,  3.93969376e+05,\n",
       "        1.41415586e+06,  5.24790719e+05,  5.75318053e+05,  5.79998162e+05,\n",
       "        2.95175165e+05,  4.91743785e+05,  5.14155078e+05,  5.61655382e+05,\n",
       "        4.00031938e+05,  1.61415595e+05,  1.70731038e+05,  3.43089354e+05,\n",
       "        5.57501517e+04,  5.48941186e+05,  3.42490191e+05,  6.28918454e+05,\n",
       "        1.76879363e+05,  5.22779054e+05,  4.82519431e+05,  5.49605650e+05,\n",
       "        8.56263885e+05,  5.68349677e+05,  6.52348488e+05,  1.51706389e+05,\n",
       "        4.39132932e+05, -2.66390962e+04,  5.40187599e+05,  4.73989305e+05,\n",
       "        7.43361712e+05,  6.48644604e+03,  4.56941791e+05,  5.99468519e+05,\n",
       "        5.45265578e+05,  1.56574124e+06,  3.48116331e+05,  1.00518358e+05,\n",
       "        5.85751469e+05,  3.30053452e+05,  4.87057778e+05,  1.38899996e+06,\n",
       "        4.18775965e+05,  1.41733660e+06,  4.73989305e+05, -3.59900139e+03,\n",
       "        4.50495260e+05,  4.30825697e+05, -2.02740520e+04,  6.32265602e+05,\n",
       "        5.38514025e+05,  3.81649455e+05,  3.04634039e+04,  5.61663724e+05,\n",
       "        1.07815549e+06,  8.22991257e+05,  4.80683601e+05,  2.00637857e+05,\n",
       "        5.20849373e+05,  1.39422146e+06,  7.21939967e+05,  3.79628934e+05,\n",
       "        5.75987483e+05,  1.98750369e+04,  4.94080533e+05,  2.45102789e+05,\n",
       "        6.52348488e+05,  5.52557449e+05,  5.67281522e+05,  5.45597415e+05,\n",
       "        7.32644115e+05,  2.96253515e+05,  4.46892006e+05,  5.28625182e+05,\n",
       "        5.84020637e+05,  7.82818343e+03,  3.36141039e+05,  6.03609273e+04,\n",
       "        4.54529811e+05,  1.46000871e+05,  5.95463660e+05,  4.93645735e+05,\n",
       "        4.23736052e+05,  6.22224158e+05,  4.53410881e+05,  1.20601244e+05,\n",
       "        2.96919568e+05,  5.01094947e+05,  7.82297384e+05,  3.56822292e+05,\n",
       "        5.42195887e+05,  4.46892006e+05,  3.93017524e+05,  6.04731160e+05,\n",
       "        1.10526113e+06,  3.43770502e+05,  4.47835516e+05,  5.36562994e+05,\n",
       "       -1.77443866e+05,  1.15553375e+06,  4.98682967e+05,  6.76098640e+05,\n",
       "        4.53586301e+05,  3.66863735e+05,  1.65942880e+06,  1.67382491e+06,\n",
       "        4.38122532e+05,  1.57243553e+06, -1.01254175e+05,  7.80500455e+05,\n",
       "        4.09016944e+05,  5.36749737e+04,  7.90541898e+05,  4.80691943e+05,\n",
       "        5.01432540e+05,  3.72942980e+05,  6.62389931e+05,  6.28918454e+05,\n",
       "       -3.10706382e+05,  4.41047216e+05,  1.97549724e+05,  7.82818343e+03,\n",
       "        6.50673605e+05,  4.23407090e+04,  1.47698544e+05,  4.28451615e+05,\n",
       "        4.92337983e+05,  3.97308182e+05,  4.29166720e+05,  5.34907394e+05,\n",
       "        6.03609273e+04,  3.05359790e+05,  5.33215846e+05,  1.39501986e+06,\n",
       "       -3.24094973e+05,  1.42420068e+06,  5.21440195e+05,  4.47835516e+05,\n",
       "        4.95090933e+05,  6.89487231e+05,  2.63846816e+05,  2.04625241e+05,\n",
       "        2.24388009e+05,  5.88761023e+05,  2.35693080e+05,  2.65210701e+05,\n",
       "        1.41012590e+05,  1.41415586e+06, -2.66390962e+04,  6.26237359e+05,\n",
       "       -3.56792733e+04,  5.82547892e+05,  5.42512629e+05,  1.52126418e+06,\n",
       "        6.07176591e+05,  4.80683601e+05,  3.63836705e+05,  3.32457090e+05,\n",
       "        4.71585668e+05,  6.25778444e+05,  6.13518198e+05,  2.77189370e+05,\n",
       "        5.13482272e+05, -7.48137946e+04,  2.62461920e+05,  5.68034524e+05,\n",
       "        5.65351841e+05,  3.75225349e+05,  4.69639947e+04, -2.13934031e+05,\n",
       "        1.53318343e+06,  1.47698544e+05,  4.20123166e+05,  5.54640968e+05,\n",
       "        2.59846923e+05,  1.95207190e+05,  1.34309953e+05,  6.26237359e+05,\n",
       "        6.71473521e+05,  3.23030697e+05,  1.40312487e+06, -1.07673465e+05,\n",
       "        4.66438767e+04, -1.91165741e+02,  3.39799963e+05,  1.35755131e+06,\n",
       "        6.94573552e+05,  4.98362849e+05,  1.48018662e+05,  4.40526170e+05,\n",
       "        5.74723855e+05,  3.45845680e+05,  4.94400651e+05,  5.34162733e+05,\n",
       "        4.19794706e+05,  3.79645617e+05,  2.69156215e+05,  8.52429244e+04,\n",
       "        5.14811997e+05,  3.55139086e+05,  1.43256517e+06,  5.06736175e+05,\n",
       "        1.29161371e+06, -1.21337061e+05,  4.46900348e+05,  4.46556001e+05,\n",
       "        3.79949052e+05,  1.48027004e+05,  1.66009823e+06,  2.42379034e+05,\n",
       "        3.16336401e+05,  1.48027004e+05,  5.75710025e+05,  3.79903014e+05,\n",
       "        5.03860306e+05,  4.41141220e+05,  5.34558082e+05,  1.49339343e+06,\n",
       "        1.50110523e+05,  1.61415595e+05,  4.80342631e+05,  6.67340333e+05,\n",
       "        4.95015702e+05,  1.43256517e+06,  1.17122304e+06,  7.11237436e+05,\n",
       "        2.21545172e+05,  5.27872128e+05,  4.93299954e+05,  6.02141272e+05,\n",
       "        2.53426708e+05,  5.68358019e+05,  2.63522530e+05,  2.65693323e+04,\n",
       "        5.95126859e+05,  3.75969462e+04,  5.27863787e+05,  1.01175278e+05,\n",
       "        4.97436023e+05,  4.71585668e+05,  4.31465933e+05,  6.35932867e+05,\n",
       "        4.20123166e+05,  4.26489002e+05,  6.44315333e+05,  5.85192139e+05,\n",
       "        6.56687831e+05,  1.30943730e+06,  1.10189638e+05,  4.77344795e+05,\n",
       "        4.31099777e+05,  3.58564842e+05,  4.44488368e+05,  6.76098640e+05,\n",
       "        4.60280597e+05,  7.83847602e+05,  1.21249822e+05,  5.34558082e+05,\n",
       "        4.32775438e+05,  1.59051013e+06,  1.45638858e+06,  4.04002478e+05,\n",
       "        4.73997647e+05,  4.12603308e+05,  4.47835516e+05,  5.32154444e+05,\n",
       "        5.70058630e+05,  4.60617398e+05,  5.32154444e+05,  5.32706025e+05,\n",
       "        6.62710049e+05,  6.40566528e+05,  3.39296806e+04,  4.33050709e+04,\n",
       "        7.40863198e+04,  2.48753211e+05,  4.08688484e+05,  5.32154444e+05,\n",
       "        4.90558563e+04,  1.00518358e+05,  5.59245435e+05,  5.22113001e+05,\n",
       "        1.31890833e+04,  2.90848511e+05,  4.66522186e+04,  1.28606235e+04,\n",
       "        6.96181526e+05,  3.10311535e+05,  7.09898577e+05,  1.49887579e+05,\n",
       "        8.55443993e+05,  5.77718314e+05,  1.63091202e+05,  5.61655382e+05,\n",
       "        7.53403155e+05,  4.79854432e+05,  2.41048516e+05,  1.40419503e+06,\n",
       "        1.65195474e+04,  7.40014564e+05,  1.35192811e+06,  6.32931654e+05,\n",
       "       -9.52167988e+04,  2.69156215e+05,  6.56024095e+05,  7.90541898e+05,\n",
       "        5.60185569e+05,  2.24724811e+05,  4.38160228e+05,  5.38571283e+05,\n",
       "        3.89005912e+05,  4.81012061e+05,  5.66191021e+05,  1.62965716e+06,\n",
       "        1.09185586e+06,  4.51182663e+05,  1.54048493e+05, -1.89577171e+05,\n",
       "        4.40206052e+05,  2.31410764e+05,  1.04328082e+05,  5.75052314e+05,\n",
       "       -1.93220400e+04, -4.06937398e+04, -1.62799989e+05,  7.81169884e+05,\n",
       "        6.44315333e+05,  1.68109890e+05,  4.28796556e+05,  1.66545705e+06,\n",
       "        2.69493017e+05, -1.69174166e+05,  3.23359156e+05,  5.35501592e+05,\n",
       "        3.30045110e+05,  1.36514902e+05,  5.59251744e+05, -2.73051490e+04,\n",
       "        3.99711820e+05,  1.00855160e+05,  4.51511123e+05,  3.37350182e+05,\n",
       "        6.62718391e+05,  1.61415595e+05,  3.93337642e+05,  2.99002296e+05,\n",
       "        1.47698544e+05,  4.35112978e+05,  1.17986787e+06,  5.70058630e+05,\n",
       "        3.81649455e+05,  1.44461203e+06,  4.73669187e+05,  4.46892006e+05,\n",
       "        4.78279963e+05,  6.25845387e+05,  4.63557478e+05,  7.36550237e+05,\n",
       "        4.78279963e+05,  6.50673605e+05,  5.28200588e+05,  6.33834045e+05,\n",
       "        4.28825750e+05,  2.22304489e+05,  6.23167668e+05,  6.50660317e+05,\n",
       "        5.07789242e+05,  7.51050520e+05,  6.03609273e+04,  8.25668975e+05,\n",
       "        2.08915898e+05, -3.51175589e+05,  6.96181526e+05,  6.82792935e+05,\n",
       "        6.01821154e+05, -1.69165825e+05,  7.43361712e+05,  3.12648284e+05,\n",
       "        5.42865317e+05,  4.33503415e+05,  7.50056007e+05,  1.40612271e+06,\n",
       "        4.53906419e+05,  5.00766487e+05,  5.00162101e+04, -1.29008394e+05,\n",
       "        5.07789242e+05,  1.46937754e+06,  4.23457804e+05,  5.95126859e+05,\n",
       "        5.32154444e+05,  4.13420529e+05,  4.94072192e+05,  4.71585668e+05,\n",
       "        5.94454053e+05,  4.51182663e+05,  1.98267747e+05,  1.98833787e+04,\n",
       "        2.94911279e+05,  6.02149614e+05,  7.60425910e+05,  5.81738268e+05,\n",
       "        5.92108171e+05,  7.77473425e+05,  6.40566528e+05,  2.71568195e+05,\n",
       "        1.69455926e+06,  4.95015702e+05,  2.81534407e+05,  6.67392679e+05,\n",
       "        5.14155078e+05,  4.26489002e+05,  1.41108617e+06,  1.57912983e+06,\n",
       "        1.33989835e+05,  5.41526458e+05, -9.99028056e+04,  5.34894884e+05,\n",
       "        1.09453854e+06,  4.05828629e+05,  3.12645268e+05,  6.25571306e+05,\n",
       "        4.66749010e+05,  5.95446977e+05,  3.40094895e+05,  1.45224149e+06,\n",
       "        4.25357979e+05,  5.76030143e+05,  2.69156215e+05,  3.52531634e+05,\n",
       "        3.70531000e+05,  5.50624391e+05,  6.74086974e+05,  5.53507903e+05,\n",
       "        4.34181186e+05,  7.69709890e+05,  5.69015730e+05,  3.77225296e+05,\n",
       "        1.69455926e+06,  3.09970566e+05,  1.68109890e+05,  2.92634374e+05,\n",
       "        7.07878569e+05, -3.70012885e+04,  1.34723297e+06, -2.16337669e+05,\n",
       "        6.78784700e+05,  4.36947215e+05,  8.71297672e+04,  1.35978278e+06,\n",
       "        1.49848651e+06,  7.63834977e+05,  6.93459596e+05,  3.45845680e+05,\n",
       "        7.74954511e+05,  6.35612749e+05,  3.50127996e+05,  1.07541113e+05,\n",
       "        3.12711005e+05,  1.52126418e+06,  6.84797847e+05,  2.43786814e+05,\n",
       "       -1.89577171e+05,  6.72431374e+05,  6.89238173e+05, -6.90214480e+03,\n",
       "        1.50008304e+06,  1.37461686e+06,  1.40914814e+06,  3.01908826e+05,\n",
       "        1.74795844e+05,  6.92834378e+05,  2.30675237e+05,  6.76098640e+05,\n",
       "        4.13428870e+05,  1.58380223e+05,  3.79645617e+05,  2.02034966e+04,\n",
       "        5.23776943e+05,  1.68109890e+05,  3.28760630e+05,  1.41332708e+05,\n",
       "        4.87317262e+05, -5.40739889e+04,  7.17923389e+05,  2.11614468e+05,\n",
       "        5.07968850e+05,  1.24596970e+05,  5.22113001e+05,  3.47674123e+05,\n",
       "        9.36623276e+05,  5.46275186e+05,  5.31282847e+05,  5.32154444e+05])"
      ]
     },
     "execution_count": 46,
     "metadata": {},
     "output_type": "execute_result"
    }
   ],
   "source": [
    "# prediction on Training data\n",
    "training_data_prediction = lass_reg_model.predict(X_test)\n",
    "training_data_prediction\n"
   ]
  },
  {
   "cell_type": "code",
   "execution_count": 47,
   "id": "ff052981",
   "metadata": {
    "papermill": {
     "duration": 0.018663,
     "end_time": "2023-02-15T05:30:27.270491",
     "exception": false,
     "start_time": "2023-02-15T05:30:27.251828",
     "status": "completed"
    },
    "tags": []
   },
   "outputs": [
    {
     "name": "stdout",
     "output_type": "stream",
     "text": [
      "R squared Error :  0.48476306480201947\n"
     ]
    }
   ],
   "source": [
    "# R squared Error\n",
    "error_score = metrics.r2_score(Y_test, training_data_prediction)\n",
    "print(\"R squared Error : \", error_score)"
   ]
  },
  {
   "cell_type": "markdown",
   "id": "ae13800c",
   "metadata": {
    "papermill": {
     "duration": 0.010437,
     "end_time": "2023-02-15T05:30:27.290572",
     "exception": false,
     "start_time": "2023-02-15T05:30:27.280135",
     "status": "completed"
    },
    "tags": []
   },
   "source": [
    "# Visualize the actual prices and Predicted prices"
   ]
  },
  {
   "cell_type": "code",
   "execution_count": 49,
   "id": "62e7c442",
   "metadata": {
    "papermill": {
     "duration": 0.168018,
     "end_time": "2023-02-15T05:30:27.469312",
     "exception": false,
     "start_time": "2023-02-15T05:30:27.301294",
     "status": "completed"
    },
    "tags": []
   },
   "outputs": [
    {
     "data": {
      "image/png": "[encoded data removed]",
      "text/plain": [
       "<Figure size 640x480 with 1 Axes>"
      ]
     },
     "metadata": {},
     "output_type": "display_data"
    }
   ],
   "source": [
    "plt.scatter(Y_test, training_data_prediction)\n",
    "plt.xlabel(\"Actual Price\")\n",
    "plt.ylabel(\"Predicted Price\")\n",
    "plt.title(\" Actual Prices vs Predicted Prices\")\n",
    "plt.show()"
   ]
  },
  {
   "cell_type": "code",
   "execution_count": 50,
   "id": "c52299dc",
   "metadata": {
    "papermill": {
     "duration": 0.02201,
     "end_time": "2023-02-15T05:30:27.501991",
     "exception": false,
     "start_time": "2023-02-15T05:30:27.479981",
     "status": "completed"
    },
    "tags": []
   },
   "outputs": [],
   "source": [
    "# prediction on Training data\n",
    "test_data_prediction = lass_reg_model.predict(X_test)"
   ]
  },
  {
   "cell_type": "code",
   "execution_count": 51,
   "id": "b315f5e9",
   "metadata": {
    "papermill": {
     "duration": 0.020658,
     "end_time": "2023-02-15T05:30:27.533445",
     "exception": false,
     "start_time": "2023-02-15T05:30:27.512787",
     "status": "completed"
    },
    "tags": []
   },
   "outputs": [
    {
     "name": "stdout",
     "output_type": "stream",
     "text": [
      "R squared Error :  0.48476306480201947\n"
     ]
    }
   ],
   "source": [
    "# R squared Error\n",
    "error_score = metrics.r2_score(Y_test, test_data_prediction)\n",
    "print(\"R squared Error : \", error_score)"
   ]
  },
  {
   "cell_type": "code",
   "execution_count": 52,
   "id": "04362c36",
   "metadata": {
    "papermill": {
     "duration": 0.15423,
     "end_time": "2023-02-15T05:30:27.697576",
     "exception": false,
     "start_time": "2023-02-15T05:30:27.543346",
     "status": "completed"
    },
    "tags": []
   },
   "outputs": [
    {
     "data": {
      "image/png": "[encoded data removed]",
      "text/plain": [
       "<Figure size 640x480 with 1 Axes>"
      ]
     },
     "metadata": {},
     "output_type": "display_data"
    }
   ],
   "source": [
    "plt.scatter(Y_test, test_data_prediction , c='k')\n",
    "plt.xlabel(\"Actual Price\")\n",
    "plt.ylabel(\"Predicted Price\")\n",
    "plt.title(\" Actual Prices vs Predicted Prices\")\n",
    "plt.plot(error_score, c='r')\n",
    "plt.show()"
   ]
  },
  {
   "cell_type": "markdown",
   "id": "f8034b55",
   "metadata": {
    "papermill": {
     "duration": 0.01043,
     "end_time": "2023-02-15T05:30:27.718088",
     "exception": false,
     "start_time": "2023-02-15T05:30:27.707658",
     "status": "completed"
    },
    "tags": []
   },
   "source": [
    "## 2. Logistic Regression "
   ]
  },
  {
   "cell_type": "code",
   "execution_count": 53,
   "id": "f96c9882-41cd-493e-b02e-fd1d6cd411e9",
   "metadata": {},
   "outputs": [],
   "source": [
    "import numpy as np\n",
    "from sklearn.linear_model import LogisticRegression"
   ]
  },
  {
   "cell_type": "code",
   "execution_count": 54,
   "id": "2573e8d0-33c2-4b47-b1b0-e62c59a82c31",
   "metadata": {},
   "outputs": [],
   "source": [
    "logit=LogisticRegression(C=1.0,solver='lbfgs', multi_class='ovr')"
   ]
  },
  {
   "cell_type": "code",
   "execution_count": 55,
   "id": "a82b140a-ff11-4139-9a8e-5f8922f20d3e",
   "metadata": {},
   "outputs": [
    {
     "data": {
      "text/html": [
       "<style>#sk-container-id-3 {color: black;background-color: white;}#sk-container-id-3 pre{padding: 0;}#sk-container-id-3 div.sk-toggleable {background-color: white;}#sk-container-id-3 label.sk-toggleable__label {cursor: pointer;display: block;width: 100%;margin-bottom: 0;padding: 0.3em;box-sizing: border-box;text-align: center;}#sk-container-id-3 label.sk-toggleable__label-arrow:before {content: \"▸\";float: left;margin-right: 0.25em;color: #696969;}#sk-container-id-3 label.sk-toggleable__label-arrow:hover:before {color: black;}#sk-container-id-3 div.sk-estimator:hover label.sk-toggleable__label-arrow:before {color: black;}#sk-container-id-3 div.sk-toggleable__content {max-height: 0;max-width: 0;overflow: hidden;text-align: left;background-color: #f0f8ff;}#sk-container-id-3 div.sk-toggleable__content pre {margin: 0.2em;color: black;border-radius: 0.25em;background-color: #f0f8ff;}#sk-container-id-3 input.sk-toggleable__control:checked~div.sk-toggleable__content {max-height: 200px;max-width: 100%;overflow: auto;}#sk-container-id-3 input.sk-toggleable__control:checked~label.sk-toggleable__label-arrow:before {content: \"▾\";}#sk-container-id-3 div.sk-estimator input.sk-toggleable__control:checked~label.sk-toggleable__label {background-color: #d4ebff;}#sk-container-id-3 div.sk-label input.sk-toggleable__control:checked~label.sk-toggleable__label {background-color: #d4ebff;}#sk-container-id-3 input.sk-hidden--visually {border: 0;clip: rect(1px 1px 1px 1px);clip: rect(1px, 1px, 1px, 1px);height: 1px;margin: -1px;overflow: hidden;padding: 0;position: absolute;width: 1px;}#sk-container-id-3 div.sk-estimator {font-family: monospace;background-color: #f0f8ff;border: 1px dotted black;border-radius: 0.25em;box-sizing: border-box;margin-bottom: 0.5em;}#sk-container-id-3 div.sk-estimator:hover {background-color: #d4ebff;}#sk-container-id-3 div.sk-parallel-item::after {content: \"\";width: 100%;border-bottom: 1px solid gray;flex-grow: 1;}#sk-container-id-3 div.sk-label:hover label.sk-toggleable__label {background-color: #d4ebff;}#sk-container-id-3 div.sk-serial::before {content: \"\";position: absolute;border-left: 1px solid gray;box-sizing: border-box;top: 0;bottom: 0;left: 50%;z-index: 0;}#sk-container-id-3 div.sk-serial {display: flex;flex-direction: column;align-items: center;background-color: white;padding-right: 0.2em;padding-left: 0.2em;position: relative;}#sk-container-id-3 div.sk-item {position: relative;z-index: 1;}#sk-container-id-3 div.sk-parallel {display: flex;align-items: stretch;justify-content: center;background-color: white;position: relative;}#sk-container-id-3 div.sk-item::before, #sk-container-id-3 div.sk-parallel-item::before {content: \"\";position: absolute;border-left: 1px solid gray;box-sizing: border-box;top: 0;bottom: 0;left: 50%;z-index: -1;}#sk-container-id-3 div.sk-parallel-item {display: flex;flex-direction: column;z-index: 1;position: relative;background-color: white;}#sk-container-id-3 div.sk-parallel-item:first-child::after {align-self: flex-end;width: 50%;}#sk-container-id-3 div.sk-parallel-item:last-child::after {align-self: flex-start;width: 50%;}#sk-container-id-3 div.sk-parallel-item:only-child::after {width: 0;}#sk-container-id-3 div.sk-dashed-wrapped {border: 1px dashed gray;margin: 0 0.4em 0.5em 0.4em;box-sizing: border-box;padding-bottom: 0.4em;background-color: white;}#sk-container-id-3 div.sk-label label {font-family: monospace;font-weight: bold;display: inline-block;line-height: 1.2em;}#sk-container-id-3 div.sk-label-container {text-align: center;}#sk-container-id-3 div.sk-container {/* jupyter's `normalize.less` sets `[hidden] { display: none; }` but bootstrap.min.css set `[hidden] { display: none !important; }` so we also need the `!important` here to be able to override the default hidden behavior on the sphinx rendered scikit-learn.org. See: https://github.com/scikit-learn/scikit-learn/issues/21755 */display: inline-block !important;position: relative;}#sk-container-id-3 div.sk-text-repr-fallback {display: none;}</style><div id=\"sk-container-id-3\" class=\"sk-top-container\"><div class=\"sk-text-repr-fallback\"><pre>LogisticRegression(multi_class=&#x27;ovr&#x27;)</pre><b>In a Jupyter environment, please rerun this cell to show the HTML representation or trust the notebook. <br />On GitHub, the HTML representation is unable to render, please try loading this page with nbviewer.org.</b></div><div class=\"sk-container\" hidden><div class=\"sk-item\"><div class=\"sk-estimator sk-toggleable\"><input class=\"sk-toggleable__control sk-hidden--visually\" id=\"sk-estimator-id-3\" type=\"checkbox\" checked><label for=\"sk-estimator-id-3\" class=\"sk-toggleable__label sk-toggleable__label-arrow\">LogisticRegression</label><div class=\"sk-toggleable__content\"><pre>LogisticRegression(multi_class=&#x27;ovr&#x27;)</pre></div></div></div></div></div>"
      ],
      "text/plain": [
       "LogisticRegression(multi_class='ovr')"
      ]
     },
     "execution_count": 55,
     "metadata": {},
     "output_type": "execute_result"
    }
   ],
   "source": [
    "logit.fit(X_train,Y_train)"
   ]
  },
  {
   "cell_type": "code",
   "execution_count": 56,
   "id": "2fc9f68c-c303-4206-b4f0-bc4d1dac2f64",
   "metadata": {
    "scrolled": false
   },
   "outputs": [
    {
     "data": {
      "text/plain": [
       "array([ 300000, 3800000,  300000,  300000,  300000,  300000,  300000,\n",
       "        300000,  300000,  300000,  300000,   80000,  300000,  300000,\n",
       "         80000, 1580000,  300000,  300000, 3800000,  300000,  670000,\n",
       "        300000,  300000,  300000,  300000,  300000, 1580000,  300000,\n",
       "        300000,  300000,  300000,   80000,  300000,  300000,  300000,\n",
       "       3800000,  300000,  250000,  550000,  300000,  550000,  300000,\n",
       "        300000,  300000,  300000,  300000,  300000,  300000,  300000,\n",
       "        300000,  550000,  300000,  300000,  300000,  300000,  300000,\n",
       "        300000,  300000,  300000,  550000,  300000,  300000,  300000,\n",
       "        670000,  300000,   80000,  300000,  300000,  300000,  300000,\n",
       "        300000,  300000,  300000,  300000,  300000,  300000,  300000,\n",
       "        300000, 3800000,  300000,  670000,  300000,  300000, 3800000,\n",
       "        300000,  300000,  300000,  300000,  300000,  670000,  250000,\n",
       "        300000,  300000,  300000,  300000,  300000,  300000,  300000,\n",
       "        300000,  300000,   80000,  300000,  300000,  300000,  300000,\n",
       "        300000,   80000,  300000,  300000,  300000,  300000,  300000,\n",
       "        300000,  300000,  300000,  300000,  300000,  300000,  300000,\n",
       "        300000,  300000,  300000,  300000,  550000,  300000,  300000,\n",
       "        300000,  300000,  300000,  300000,  300000,  300000,  300000,\n",
       "        300000,  300000,  300000,  110000,  250000,  300000,  300000,\n",
       "        250000,  300000,  300000,  250000,  300000,  300000,  300000,\n",
       "        300000,  300000,  300000,  300000,  300000,  300000,  550000,\n",
       "        300000,  300000,  300000,  300000,  300000,  300000,  300000,\n",
       "        300000, 1580000,  300000,  300000,  300000,  550000, 3800000,\n",
       "        550000,  300000,  250000,  300000,  110000,  250000,  300000,\n",
       "        300000,  300000,  300000,  300000,  300000,  300000,  300000,\n",
       "        300000,  300000,  250000,  300000,  300000, 3800000,  300000,\n",
       "        300000,  300000,  110000,  300000,  300000,  300000,  300000,\n",
       "        300000,  300000,  300000,  300000,  300000,  300000,  300000,\n",
       "        300000,  300000,  300000,  300000,  300000,  300000,  300000,\n",
       "        250000,  300000,  300000,  300000,  300000,  300000,   80000,\n",
       "        300000,   80000,  300000,  300000,  300000,  250000,  300000,\n",
       "        300000,  300000,  300000,  550000,  300000,  300000,  300000,\n",
       "       1580000,  300000,  300000, 3800000,  110000, 1580000,  670000,\n",
       "        300000,  300000,  300000, 3800000,  300000,  300000,  300000,\n",
       "        300000,  300000,  300000,  300000, 1580000,  300000,  300000,\n",
       "        300000,  110000,  300000, 1580000,  300000,  300000,  300000,\n",
       "         80000, 1580000,  300000,  550000,  300000,  300000,  670000,\n",
       "        300000,  300000,  300000,  300000,  300000,  300000,  300000,\n",
       "        300000,  300000,  670000,  300000,  300000,  300000,  300000,\n",
       "        300000,  300000,  300000,  300000, 3800000,  300000,  300000,\n",
       "        300000, 3800000,  300000,  300000,   80000,  300000,  300000,\n",
       "        300000,  300000,   80000,   80000,  300000,  300000,  300000,\n",
       "        300000,  300000,  300000,  300000,   80000,  300000,  670000,\n",
       "        300000,  550000,  300000,  300000,   80000,   80000,  300000,\n",
       "        300000,  300000,  300000,  300000,  300000,  300000, 1580000,\n",
       "        300000,  300000,  300000,  300000, 3800000,  300000,   80000,\n",
       "        300000,  300000,  300000,  110000,   80000,  300000,  300000,\n",
       "        300000,  300000,  300000,  250000,  300000,  300000,  300000,\n",
       "        300000,  300000,  250000,  300000,  250000,  300000,  300000,\n",
       "        300000,  300000,  300000,  300000,  300000, 1580000,   80000,\n",
       "        300000,  300000,  250000,  300000,  300000,  300000,  300000,\n",
       "        300000,  300000,  300000,  300000,  300000,  300000,  300000,\n",
       "        300000,  300000,   80000,  300000,  300000, 1580000,  300000,\n",
       "        300000,   80000,  300000,  300000,  300000,  300000,  250000,\n",
       "        300000,  300000,  300000,  300000,  300000,  300000,  300000,\n",
       "        300000,  300000,  300000,  300000, 1580000,  300000,  300000,\n",
       "        300000,  300000,  300000,  670000,  300000,  300000,  300000,\n",
       "        300000,  300000,  300000,  300000,  300000,  300000,  300000,\n",
       "        300000,  300000,  300000,  300000, 3800000,  300000,  300000,\n",
       "        300000,  300000,   80000,  300000,  550000,  670000,  300000,\n",
       "        300000,  300000,  300000,  300000,  300000,  300000, 1580000,\n",
       "        300000,  300000,  300000,  300000,  300000,  250000,  300000,\n",
       "        300000,  300000,  300000,  300000,  300000,  300000,  300000,\n",
       "        670000,  300000,  110000,  300000,  300000,  300000,  300000,\n",
       "        300000,  300000,  300000,  300000,  300000,  300000,  300000,\n",
       "        250000,  300000,  670000,  300000,  300000,  300000,  300000,\n",
       "         80000,  300000,  300000,  300000,  300000,  300000,  300000,\n",
       "        300000,  300000, 3800000, 3800000,  300000,  300000,   80000,\n",
       "        300000,  300000,   80000,  550000,  300000,  300000,  300000,\n",
       "        300000,  300000,  300000,  300000,  300000,  300000,  300000,\n",
       "        250000,  300000,  300000,  300000,  300000,  300000,  300000,\n",
       "        300000,  300000,  300000,  300000,  300000,  300000,  300000,\n",
       "        300000,  300000,  300000,  250000,  250000,  300000,  300000,\n",
       "        300000,  110000,  300000, 1580000,  300000,  300000,   80000,\n",
       "        670000,  300000, 1580000,  300000,  300000,  300000,  300000,\n",
       "        300000,  670000,  300000,  300000,  300000,  300000,  300000,\n",
       "       3800000,  300000,  300000,  300000,  300000,  300000,  300000,\n",
       "        300000,  300000,  300000,  300000,  300000,  300000,  300000,\n",
       "        300000, 1580000,   80000,  300000,   80000,  250000, 1580000,\n",
       "        300000,  550000,  300000,  300000,  300000,  300000,  300000,\n",
       "        300000,  300000,  300000,  300000,  300000,  300000,  300000,\n",
       "       1580000,  300000, 1580000,   80000,  300000,  300000,  250000,\n",
       "        300000, 3800000,  300000,  300000,  300000,  300000,  300000,\n",
       "        300000,  300000,  300000, 3800000,  300000,  300000,  300000,\n",
       "       3800000,  300000, 1580000,  250000,  300000,  300000,  300000,\n",
       "        300000,  300000,   80000,  300000,  110000,  300000,  300000,\n",
       "         80000,  300000,   80000,  300000,  300000,  250000,  300000,\n",
       "        300000,  300000,  300000,  670000,  300000,  300000,  250000,\n",
       "        300000,  300000,  300000,  300000,  300000,  300000,  300000,\n",
       "        300000,  300000,   80000, 3800000, 3800000,  300000,  300000,\n",
       "        300000,  300000,  300000,  300000,  300000,  300000,  550000,\n",
       "        300000,  300000,  300000,  300000,   80000,  300000,  300000,\n",
       "        300000,  300000,  300000,  300000,  300000,   80000,  300000,\n",
       "        300000,  300000,  300000,  300000,  300000,  300000,  300000,\n",
       "        300000,  300000,  300000,  550000,  300000,  300000,  300000,\n",
       "        300000,  300000, 1580000,  300000,  300000,  300000,  300000,\n",
       "        550000,  300000,  110000,  250000,  300000,  300000,  300000,\n",
       "        300000,  300000,  300000,  300000,  300000,  300000,  300000,\n",
       "        300000,  300000,  300000,   80000,  300000,  300000,  300000,\n",
       "        300000,  300000,  250000,  300000,   80000,  300000,  300000,\n",
       "        300000,  300000,   80000,  300000,  300000,  300000,   80000,\n",
       "        300000,  250000,  300000,  300000,  250000,  110000,  300000,\n",
       "        300000,  300000,  300000,  670000,  300000,  300000,  300000,\n",
       "        300000,  670000,  300000,  300000,  300000,  300000,  300000,\n",
       "        300000,  300000,  300000,  670000,  300000,  300000,  300000,\n",
       "        300000, 3800000,  300000,   80000,  300000,  300000,  300000,\n",
       "        300000,  300000,  300000,  670000,  300000,  550000, 1580000,\n",
       "        300000,  300000,  250000,  300000,  300000,  300000,  110000,\n",
       "        300000,  300000,  300000,  300000,  300000,  300000,  300000,\n",
       "        110000,   80000,  300000,  300000,  300000,  300000,  300000,\n",
       "        300000,  300000,  300000, 1580000,  300000,  300000,  300000,\n",
       "        300000,  300000,  300000,  300000,  550000,  670000,  300000,\n",
       "        300000,  300000,  250000,  300000,  300000,  300000,  300000,\n",
       "        300000,  300000,  670000,  300000,  300000,  300000,  300000,\n",
       "        300000,  300000,  300000,  300000,  300000,  300000,  300000,\n",
       "       1580000,  300000,  300000,  300000,  300000,  250000,  300000,\n",
       "         80000,  300000,  300000,  300000, 1580000,  300000,  300000,\n",
       "        300000,  300000,  300000,  300000,  300000,  300000,  110000,\n",
       "       1580000,  300000,  300000,  300000,  550000,  300000,  300000,\n",
       "       3800000,  300000,  300000,  300000,  300000,  300000,  300000,\n",
       "        300000,  300000,  250000,  300000,   80000,  300000,  300000,\n",
       "        250000,  300000,  300000,   80000,  300000,  300000,  300000,\n",
       "        300000,  300000,  300000,  300000,  300000,  300000,  300000],\n",
       "      dtype=int64)"
      ]
     },
     "execution_count": 56,
     "metadata": {},
     "output_type": "execute_result"
    }
   ],
   "source": [
    "training_data_prediction = logit.predict(X_test)\n",
    "training_data_prediction"
   ]
  },
  {
   "cell_type": "code",
   "execution_count": 57,
   "id": "87a5be1d",
   "metadata": {},
   "outputs": [
    {
     "name": "stdout",
     "output_type": "stream",
     "text": [
      "R squared Error :  0.48476306480201947\n"
     ]
    }
   ],
   "source": [
    "error_score = metrics.r2_score(Y_test, test_data_prediction)\n",
    "print(\"R squared Error : \", error_score)\n"
   ]
  }
 ],
 "metadata": {
  "kernelspec": {
   "display_name": "Python 3 (ipykernel)",
   "language": "python",
   "name": "python3"
  },
  "language_info": {
   "codemirror_mode": {
    "name": "ipython",
    "version": 3
   },
   "file_extension": ".py",
   "mimetype": "text/x-python",
   "name": "python",
   "nbconvert_exporter": "python",
   "pygments_lexer": "ipython3",
   "version": "3.11.1"
  },
  "papermill": {
   "default_parameters": {},
   "duration": 12.756078,
   "end_time": "2023-02-15T05:30:28.451063",
   "environment_variables": {},
   "exception": null,
   "input_path": "__notebook__.ipynb",
   "output_path": "__notebook__.ipynb",
   "parameters": {},
   "start_time": "2023-02-15T05:30:15.694985",
   "version": "2.3.4"
  },
  "vscode": {
   "interpreter": {
    "hash": "ff4b1fca65a764b45acb559e482afe389d289dd599b9f8c5fd12ff5c2ea46a65"
   }
  }
 },
 "nbformat": 4,
 "nbformat_minor": 5
}
